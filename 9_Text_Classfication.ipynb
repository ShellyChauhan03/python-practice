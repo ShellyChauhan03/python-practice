{
 "cells": [
  {
   "cell_type": "markdown",
   "id": "010e330b",
   "metadata": {
    "id": "010e330b"
   },
   "source": [
    "#### Information Retrieval\n",
    "##### Assignment 1\n",
    "###### Group 36\n",
    "\n",
    "1. Ankit Dixit    2022aa05328\n",
    "2. Shelly Chauhan 2022aa05034\n",
    "3. Swarnendu Dawn 2021sc04401"
   ]
  },
  {
   "cell_type": "markdown",
   "id": "c9b0c166",
   "metadata": {
    "id": "c9b0c166"
   },
   "source": [
    "###### Dataset used\n",
    "https://www.kaggle.com/datasets/team-ai/spam-text-message-classification to an external site.\n",
    "<br/>\n",
    "<span style=\"color: red;\">\n",
    "<b>Question 1 (1 Marks):</b>\n",
    "</span>\n",
    "Collect the dataset and Import the necessary Python libraries for text classification and dataset. Provide the code for importing these libraries.\n"
   ]
  },
  {
   "cell_type": "markdown",
   "id": "VH9URS_ULip7",
   "metadata": {
    "id": "VH9URS_ULip7"
   },
   "source": [
    "<span style=\"color: blue;\">Note: first 3 steps are optional, you can directly execute the code from 3rd step after downloading the csv file locally</span>"
   ]
  },
  {
   "cell_type": "code",
   "execution_count": 1,
   "id": "d27002de",
   "metadata": {
    "id": "d27002de"
   },
   "outputs": [],
   "source": [
    "!mkdir -p ~/.kaggle\n",
    "!cp kaggle.json ~/.kaggle/"
   ]
  },
  {
   "cell_type": "code",
   "execution_count": 2,
   "id": "ce3a6ccf",
   "metadata": {
    "colab": {
     "base_uri": "https://localhost:8080/",
     "height": 0
    },
    "id": "ce3a6ccf",
    "outputId": "28492120-518a-4335-bc6b-3287d3d8c325"
   },
   "outputs": [
    {
     "name": "stdout",
     "output_type": "stream",
     "text": [
      "Warning: Your Kaggle API key is readable by other users on this system! To fix this, you can run 'chmod 600 /root/.kaggle/kaggle.json'\n",
      "spam-text-message-classification.zip: Skipping, found more recently modified local copy (use --force to force download)\n"
     ]
    }
   ],
   "source": [
    "!kaggle datasets download -d team-ai/spam-text-message-classification"
   ]
  },
  {
   "cell_type": "code",
   "execution_count": 3,
   "id": "UykH3xLAjp4R",
   "metadata": {
    "id": "UykH3xLAjp4R"
   },
   "outputs": [],
   "source": [
    "import zipfile\n",
    "zip_ref = zipfile.ZipFile('spam-text-message-classification.zip' , 'r')\n",
    "zip_ref.extractall()\n",
    "zip_ref.close()"
   ]
  },
  {
   "cell_type": "code",
   "execution_count": 4,
   "id": "s0w_sSJ8jqGY",
   "metadata": {
    "colab": {
     "base_uri": "https://localhost:8080/",
     "height": 0
    },
    "id": "s0w_sSJ8jqGY",
    "outputId": "43b43c91-fc29-459a-f779-609624668d65"
   },
   "outputs": [
    {
     "name": "stderr",
     "output_type": "stream",
     "text": [
      "[nltk_data] Downloading package punkt to /root/nltk_data...\n",
      "[nltk_data]   Package punkt is already up-to-date!\n",
      "[nltk_data] Downloading package stopwords to /root/nltk_data...\n",
      "[nltk_data]   Package stopwords is already up-to-date!\n",
      "[nltk_data] Downloading package wordnet to /root/nltk_data...\n",
      "[nltk_data]   Package wordnet is already up-to-date!\n",
      "[nltk_data] Downloading package averaged_perceptron_tagger to\n",
      "[nltk_data]     /root/nltk_data...\n",
      "[nltk_data]   Package averaged_perceptron_tagger is already up-to-\n",
      "[nltk_data]       date!\n"
     ]
    }
   ],
   "source": [
    "#Importing all the required libraries\n",
    "import pandas as pd\n",
    "import nltk\n",
    "import re\n",
    "import glob\n",
    "from nltk.corpus import stopwords\n",
    "from sklearn.feature_extraction.text import CountVectorizer, TfidfVectorizer\n",
    "from gensim.models import Word2Vec\n",
    "from sklearn.decomposition import PCA\n",
    "import matplotlib.pyplot as plt\n",
    "\n",
    "from nltk.tokenize import sent_tokenize,word_tokenize\n",
    "import string\n",
    "nltk.download('punkt')\n",
    "\n",
    "# Download the NLTK stopwords\n",
    "nltk.download('stopwords')\n",
    "from nltk.stem import WordNetLemmatizer,PorterStemmer\n",
    "nltk.download('wordnet')\n",
    "nltk.download('averaged_perceptron_tagger')\n",
    "from nltk import pos_tag\n",
    "\n",
    "from sklearn.preprocessing import LabelEncoder\n",
    "from collections import defaultdict\n",
    "from nltk.corpus import wordnet as wn\n",
    "from sklearn import model_selection, naive_bayes, svm\n",
    "import seaborn as sns\n",
    "import numpy as np\n",
    "import spacy\n",
    "\n",
    "from sklearn.model_selection import train_test_split\n",
    "from sklearn.pipeline import Pipeline\n",
    "#from sklearn.svm import SVM\n",
    "\n",
    "import warnings\n",
    "warnings.filterwarnings('ignore')\n",
    "\n",
    "from sklearn.model_selection import cross_val_score, cross_val_predict,cross_val_predict, KFold, StratifiedKFold, GroupKFold,\\\n",
    "RepeatedKFold\n",
    "from sklearn.metrics import accuracy_score, confusion_matrix, classification_report, r2_score,\\\n",
    "mean_squared_error,mean_absolute_error, f1_score, precision_score, recall_score"
   ]
  },
  {
   "cell_type": "code",
   "execution_count": 5,
   "id": "zpXN8u2lmST5",
   "metadata": {
    "colab": {
     "base_uri": "https://localhost:8080/",
     "height": 423
    },
    "id": "zpXN8u2lmST5",
    "outputId": "3e37d258-6938-4b2b-818d-d0edb20dc4a1"
   },
   "outputs": [
    {
     "data": {
      "text/html": [
       "\n",
       "  <div id=\"df-bc6fe87d-ce1b-4e8c-990e-b162bd8c6324\" class=\"colab-df-container\">\n",
       "    <div>\n",
       "<style scoped>\n",
       "    .dataframe tbody tr th:only-of-type {\n",
       "        vertical-align: middle;\n",
       "    }\n",
       "\n",
       "    .dataframe tbody tr th {\n",
       "        vertical-align: top;\n",
       "    }\n",
       "\n",
       "    .dataframe thead th {\n",
       "        text-align: right;\n",
       "    }\n",
       "</style>\n",
       "<table border=\"1\" class=\"dataframe\">\n",
       "  <thead>\n",
       "    <tr style=\"text-align: right;\">\n",
       "      <th></th>\n",
       "      <th>Category</th>\n",
       "      <th>Message</th>\n",
       "    </tr>\n",
       "  </thead>\n",
       "  <tbody>\n",
       "    <tr>\n",
       "      <th>0</th>\n",
       "      <td>ham</td>\n",
       "      <td>Go until jurong point, crazy.. Available only ...</td>\n",
       "    </tr>\n",
       "    <tr>\n",
       "      <th>1</th>\n",
       "      <td>ham</td>\n",
       "      <td>Ok lar... Joking wif u oni...</td>\n",
       "    </tr>\n",
       "    <tr>\n",
       "      <th>2</th>\n",
       "      <td>spam</td>\n",
       "      <td>Free entry in 2 a wkly comp to win FA Cup fina...</td>\n",
       "    </tr>\n",
       "    <tr>\n",
       "      <th>3</th>\n",
       "      <td>ham</td>\n",
       "      <td>U dun say so early hor... U c already then say...</td>\n",
       "    </tr>\n",
       "    <tr>\n",
       "      <th>4</th>\n",
       "      <td>ham</td>\n",
       "      <td>Nah I don't think he goes to usf, he lives aro...</td>\n",
       "    </tr>\n",
       "    <tr>\n",
       "      <th>...</th>\n",
       "      <td>...</td>\n",
       "      <td>...</td>\n",
       "    </tr>\n",
       "    <tr>\n",
       "      <th>5567</th>\n",
       "      <td>spam</td>\n",
       "      <td>This is the 2nd time we have tried 2 contact u...</td>\n",
       "    </tr>\n",
       "    <tr>\n",
       "      <th>5568</th>\n",
       "      <td>ham</td>\n",
       "      <td>Will ü b going to esplanade fr home?</td>\n",
       "    </tr>\n",
       "    <tr>\n",
       "      <th>5569</th>\n",
       "      <td>ham</td>\n",
       "      <td>Pity, * was in mood for that. So...any other s...</td>\n",
       "    </tr>\n",
       "    <tr>\n",
       "      <th>5570</th>\n",
       "      <td>ham</td>\n",
       "      <td>The guy did some bitching but I acted like i'd...</td>\n",
       "    </tr>\n",
       "    <tr>\n",
       "      <th>5571</th>\n",
       "      <td>ham</td>\n",
       "      <td>Rofl. Its true to its name</td>\n",
       "    </tr>\n",
       "  </tbody>\n",
       "</table>\n",
       "<p>5572 rows × 2 columns</p>\n",
       "</div>\n",
       "    <div class=\"colab-df-buttons\">\n",
       "\n",
       "  <div class=\"colab-df-container\">\n",
       "    <button class=\"colab-df-convert\" onclick=\"convertToInteractive('df-bc6fe87d-ce1b-4e8c-990e-b162bd8c6324')\"\n",
       "            title=\"Convert this dataframe to an interactive table.\"\n",
       "            style=\"display:none;\">\n",
       "\n",
       "  <svg xmlns=\"http://www.w3.org/2000/svg\" height=\"24px\" viewBox=\"0 -960 960 960\">\n",
       "    <path d=\"M120-120v-720h720v720H120Zm60-500h600v-160H180v160Zm220 220h160v-160H400v160Zm0 220h160v-160H400v160ZM180-400h160v-160H180v160Zm440 0h160v-160H620v160ZM180-180h160v-160H180v160Zm440 0h160v-160H620v160Z\"/>\n",
       "  </svg>\n",
       "    </button>\n",
       "\n",
       "  <style>\n",
       "    .colab-df-container {\n",
       "      display:flex;\n",
       "      gap: 12px;\n",
       "    }\n",
       "\n",
       "    .colab-df-convert {\n",
       "      background-color: #E8F0FE;\n",
       "      border: none;\n",
       "      border-radius: 50%;\n",
       "      cursor: pointer;\n",
       "      display: none;\n",
       "      fill: #1967D2;\n",
       "      height: 32px;\n",
       "      padding: 0 0 0 0;\n",
       "      width: 32px;\n",
       "    }\n",
       "\n",
       "    .colab-df-convert:hover {\n",
       "      background-color: #E2EBFA;\n",
       "      box-shadow: 0px 1px 2px rgba(60, 64, 67, 0.3), 0px 1px 3px 1px rgba(60, 64, 67, 0.15);\n",
       "      fill: #174EA6;\n",
       "    }\n",
       "\n",
       "    .colab-df-buttons div {\n",
       "      margin-bottom: 4px;\n",
       "    }\n",
       "\n",
       "    [theme=dark] .colab-df-convert {\n",
       "      background-color: #3B4455;\n",
       "      fill: #D2E3FC;\n",
       "    }\n",
       "\n",
       "    [theme=dark] .colab-df-convert:hover {\n",
       "      background-color: #434B5C;\n",
       "      box-shadow: 0px 1px 3px 1px rgba(0, 0, 0, 0.15);\n",
       "      filter: drop-shadow(0px 1px 2px rgba(0, 0, 0, 0.3));\n",
       "      fill: #FFFFFF;\n",
       "    }\n",
       "  </style>\n",
       "\n",
       "    <script>\n",
       "      const buttonEl =\n",
       "        document.querySelector('#df-bc6fe87d-ce1b-4e8c-990e-b162bd8c6324 button.colab-df-convert');\n",
       "      buttonEl.style.display =\n",
       "        google.colab.kernel.accessAllowed ? 'block' : 'none';\n",
       "\n",
       "      async function convertToInteractive(key) {\n",
       "        const element = document.querySelector('#df-bc6fe87d-ce1b-4e8c-990e-b162bd8c6324');\n",
       "        const dataTable =\n",
       "          await google.colab.kernel.invokeFunction('convertToInteractive',\n",
       "                                                    [key], {});\n",
       "        if (!dataTable) return;\n",
       "\n",
       "        const docLinkHtml = 'Like what you see? Visit the ' +\n",
       "          '<a target=\"_blank\" href=https://colab.research.google.com/notebooks/data_table.ipynb>data table notebook</a>'\n",
       "          + ' to learn more about interactive tables.';\n",
       "        element.innerHTML = '';\n",
       "        dataTable['output_type'] = 'display_data';\n",
       "        await google.colab.output.renderOutput(dataTable, element);\n",
       "        const docLink = document.createElement('div');\n",
       "        docLink.innerHTML = docLinkHtml;\n",
       "        element.appendChild(docLink);\n",
       "      }\n",
       "    </script>\n",
       "  </div>\n",
       "\n",
       "\n",
       "<div id=\"df-e46880f1-1873-49c1-81c5-9c54793c70ab\">\n",
       "  <button class=\"colab-df-quickchart\" onclick=\"quickchart('df-e46880f1-1873-49c1-81c5-9c54793c70ab')\"\n",
       "            title=\"Suggest charts.\"\n",
       "            style=\"display:none;\">\n",
       "\n",
       "<svg xmlns=\"http://www.w3.org/2000/svg\" height=\"24px\"viewBox=\"0 0 24 24\"\n",
       "     width=\"24px\">\n",
       "    <g>\n",
       "        <path d=\"M19 3H5c-1.1 0-2 .9-2 2v14c0 1.1.9 2 2 2h14c1.1 0 2-.9 2-2V5c0-1.1-.9-2-2-2zM9 17H7v-7h2v7zm4 0h-2V7h2v10zm4 0h-2v-4h2v4z\"/>\n",
       "    </g>\n",
       "</svg>\n",
       "  </button>\n",
       "\n",
       "<style>\n",
       "  .colab-df-quickchart {\n",
       "      --bg-color: #E8F0FE;\n",
       "      --fill-color: #1967D2;\n",
       "      --hover-bg-color: #E2EBFA;\n",
       "      --hover-fill-color: #174EA6;\n",
       "      --disabled-fill-color: #AAA;\n",
       "      --disabled-bg-color: #DDD;\n",
       "  }\n",
       "\n",
       "  [theme=dark] .colab-df-quickchart {\n",
       "      --bg-color: #3B4455;\n",
       "      --fill-color: #D2E3FC;\n",
       "      --hover-bg-color: #434B5C;\n",
       "      --hover-fill-color: #FFFFFF;\n",
       "      --disabled-bg-color: #3B4455;\n",
       "      --disabled-fill-color: #666;\n",
       "  }\n",
       "\n",
       "  .colab-df-quickchart {\n",
       "    background-color: var(--bg-color);\n",
       "    border: none;\n",
       "    border-radius: 50%;\n",
       "    cursor: pointer;\n",
       "    display: none;\n",
       "    fill: var(--fill-color);\n",
       "    height: 32px;\n",
       "    padding: 0;\n",
       "    width: 32px;\n",
       "  }\n",
       "\n",
       "  .colab-df-quickchart:hover {\n",
       "    background-color: var(--hover-bg-color);\n",
       "    box-shadow: 0 1px 2px rgba(60, 64, 67, 0.3), 0 1px 3px 1px rgba(60, 64, 67, 0.15);\n",
       "    fill: var(--button-hover-fill-color);\n",
       "  }\n",
       "\n",
       "  .colab-df-quickchart-complete:disabled,\n",
       "  .colab-df-quickchart-complete:disabled:hover {\n",
       "    background-color: var(--disabled-bg-color);\n",
       "    fill: var(--disabled-fill-color);\n",
       "    box-shadow: none;\n",
       "  }\n",
       "\n",
       "  .colab-df-spinner {\n",
       "    border: 2px solid var(--fill-color);\n",
       "    border-color: transparent;\n",
       "    border-bottom-color: var(--fill-color);\n",
       "    animation:\n",
       "      spin 1s steps(1) infinite;\n",
       "  }\n",
       "\n",
       "  @keyframes spin {\n",
       "    0% {\n",
       "      border-color: transparent;\n",
       "      border-bottom-color: var(--fill-color);\n",
       "      border-left-color: var(--fill-color);\n",
       "    }\n",
       "    20% {\n",
       "      border-color: transparent;\n",
       "      border-left-color: var(--fill-color);\n",
       "      border-top-color: var(--fill-color);\n",
       "    }\n",
       "    30% {\n",
       "      border-color: transparent;\n",
       "      border-left-color: var(--fill-color);\n",
       "      border-top-color: var(--fill-color);\n",
       "      border-right-color: var(--fill-color);\n",
       "    }\n",
       "    40% {\n",
       "      border-color: transparent;\n",
       "      border-right-color: var(--fill-color);\n",
       "      border-top-color: var(--fill-color);\n",
       "    }\n",
       "    60% {\n",
       "      border-color: transparent;\n",
       "      border-right-color: var(--fill-color);\n",
       "    }\n",
       "    80% {\n",
       "      border-color: transparent;\n",
       "      border-right-color: var(--fill-color);\n",
       "      border-bottom-color: var(--fill-color);\n",
       "    }\n",
       "    90% {\n",
       "      border-color: transparent;\n",
       "      border-bottom-color: var(--fill-color);\n",
       "    }\n",
       "  }\n",
       "</style>\n",
       "\n",
       "  <script>\n",
       "    async function quickchart(key) {\n",
       "      const quickchartButtonEl =\n",
       "        document.querySelector('#' + key + ' button');\n",
       "      quickchartButtonEl.disabled = true;  // To prevent multiple clicks.\n",
       "      quickchartButtonEl.classList.add('colab-df-spinner');\n",
       "      try {\n",
       "        const charts = await google.colab.kernel.invokeFunction(\n",
       "            'suggestCharts', [key], {});\n",
       "      } catch (error) {\n",
       "        console.error('Error during call to suggestCharts:', error);\n",
       "      }\n",
       "      quickchartButtonEl.classList.remove('colab-df-spinner');\n",
       "      quickchartButtonEl.classList.add('colab-df-quickchart-complete');\n",
       "    }\n",
       "    (() => {\n",
       "      let quickchartButtonEl =\n",
       "        document.querySelector('#df-e46880f1-1873-49c1-81c5-9c54793c70ab button');\n",
       "      quickchartButtonEl.style.display =\n",
       "        google.colab.kernel.accessAllowed ? 'block' : 'none';\n",
       "    })();\n",
       "  </script>\n",
       "</div>\n",
       "    </div>\n",
       "  </div>\n"
      ],
      "text/plain": [
       "     Category                                            Message\n",
       "0         ham  Go until jurong point, crazy.. Available only ...\n",
       "1         ham                      Ok lar... Joking wif u oni...\n",
       "2        spam  Free entry in 2 a wkly comp to win FA Cup fina...\n",
       "3         ham  U dun say so early hor... U c already then say...\n",
       "4         ham  Nah I don't think he goes to usf, he lives aro...\n",
       "...       ...                                                ...\n",
       "5567     spam  This is the 2nd time we have tried 2 contact u...\n",
       "5568      ham               Will ü b going to esplanade fr home?\n",
       "5569      ham  Pity, * was in mood for that. So...any other s...\n",
       "5570      ham  The guy did some bitching but I acted like i'd...\n",
       "5571      ham                         Rofl. Its true to its name\n",
       "\n",
       "[5572 rows x 2 columns]"
      ]
     },
     "execution_count": 5,
     "metadata": {},
     "output_type": "execute_result"
    }
   ],
   "source": [
    "df = pd.read_csv('SPAM text message 20170820 - Data.csv', delimiter=',')\n",
    "df"
   ]
  },
  {
   "cell_type": "code",
   "execution_count": 6,
   "id": "489e1df8",
   "metadata": {
    "colab": {
     "base_uri": "https://localhost:8080/",
     "height": 0
    },
    "id": "489e1df8",
    "outputId": "a2427bb2-3001-4324-eb90-a4d665708f76"
   },
   "outputs": [
    {
     "name": "stdout",
     "output_type": "stream",
     "text": [
      "<class 'pandas.core.frame.DataFrame'>\n",
      "RangeIndex: 5572 entries, 0 to 5571\n",
      "Data columns (total 2 columns):\n",
      " #   Column    Non-Null Count  Dtype \n",
      "---  ------    --------------  ----- \n",
      " 0   Category  5572 non-null   object\n",
      " 1   Message   5572 non-null   object\n",
      "dtypes: object(2)\n",
      "memory usage: 87.2+ KB\n"
     ]
    }
   ],
   "source": [
    "df.info()"
   ]
  },
  {
   "cell_type": "markdown",
   "id": "EC1Dh7l5krVR",
   "metadata": {
    "id": "EC1Dh7l5krVR"
   },
   "source": [
    "**\n",
    "<span style=\"color: red;\">\n",
    "<b>Question 2 (2 Marks):\n",
    "\n",
    "Explain the importance of text preprocessing in text classification and demonstrate Python code for tasks such as lowercasing and removing special characters.</b></span>\n",
    "**\n",
    "<br/>\n",
    "<span style=\"color: blue;\">\n",
    "Text preprocessing is a crucial step as we remove stopwords, punctuations before classify the text. Classifcation into categories is independent of redudent words.\n",
    "Methods are explained below.<br/>\n",
    "Removal of stopwords is necessary because they are present in every file and does not hold significant importance.\n",
    "Similary, punctuation itself doesn't hold any contextual meaning.\n",
    "And we lowered the words as it will help in creating meaningful vocabulary. Words like Car, car, CAR, cAR are basically same words.\n",
    "</span>\n"
   ]
  },
  {
   "cell_type": "code",
   "execution_count": 7,
   "id": "17a6c345",
   "metadata": {
    "colab": {
     "base_uri": "https://localhost:8080/",
     "height": 175
    },
    "id": "17a6c345",
    "outputId": "295309ed-a99c-432f-d8c7-d0b58b8168a0"
   },
   "outputs": [
    {
     "data": {
      "text/html": [
       "\n",
       "  <div id=\"df-d63baf1b-10e9-4005-8215-c3fdf071553f\" class=\"colab-df-container\">\n",
       "    <div>\n",
       "<style scoped>\n",
       "    .dataframe tbody tr th:only-of-type {\n",
       "        vertical-align: middle;\n",
       "    }\n",
       "\n",
       "    .dataframe tbody tr th {\n",
       "        vertical-align: top;\n",
       "    }\n",
       "\n",
       "    .dataframe thead th {\n",
       "        text-align: right;\n",
       "    }\n",
       "</style>\n",
       "<table border=\"1\" class=\"dataframe\">\n",
       "  <thead>\n",
       "    <tr style=\"text-align: right;\">\n",
       "      <th></th>\n",
       "      <th>Category</th>\n",
       "      <th>Message</th>\n",
       "    </tr>\n",
       "  </thead>\n",
       "  <tbody>\n",
       "    <tr>\n",
       "      <th>count</th>\n",
       "      <td>5572</td>\n",
       "      <td>5572</td>\n",
       "    </tr>\n",
       "    <tr>\n",
       "      <th>unique</th>\n",
       "      <td>2</td>\n",
       "      <td>5157</td>\n",
       "    </tr>\n",
       "    <tr>\n",
       "      <th>top</th>\n",
       "      <td>ham</td>\n",
       "      <td>Sorry, I'll call later</td>\n",
       "    </tr>\n",
       "    <tr>\n",
       "      <th>freq</th>\n",
       "      <td>4825</td>\n",
       "      <td>30</td>\n",
       "    </tr>\n",
       "  </tbody>\n",
       "</table>\n",
       "</div>\n",
       "    <div class=\"colab-df-buttons\">\n",
       "\n",
       "  <div class=\"colab-df-container\">\n",
       "    <button class=\"colab-df-convert\" onclick=\"convertToInteractive('df-d63baf1b-10e9-4005-8215-c3fdf071553f')\"\n",
       "            title=\"Convert this dataframe to an interactive table.\"\n",
       "            style=\"display:none;\">\n",
       "\n",
       "  <svg xmlns=\"http://www.w3.org/2000/svg\" height=\"24px\" viewBox=\"0 -960 960 960\">\n",
       "    <path d=\"M120-120v-720h720v720H120Zm60-500h600v-160H180v160Zm220 220h160v-160H400v160Zm0 220h160v-160H400v160ZM180-400h160v-160H180v160Zm440 0h160v-160H620v160ZM180-180h160v-160H180v160Zm440 0h160v-160H620v160Z\"/>\n",
       "  </svg>\n",
       "    </button>\n",
       "\n",
       "  <style>\n",
       "    .colab-df-container {\n",
       "      display:flex;\n",
       "      gap: 12px;\n",
       "    }\n",
       "\n",
       "    .colab-df-convert {\n",
       "      background-color: #E8F0FE;\n",
       "      border: none;\n",
       "      border-radius: 50%;\n",
       "      cursor: pointer;\n",
       "      display: none;\n",
       "      fill: #1967D2;\n",
       "      height: 32px;\n",
       "      padding: 0 0 0 0;\n",
       "      width: 32px;\n",
       "    }\n",
       "\n",
       "    .colab-df-convert:hover {\n",
       "      background-color: #E2EBFA;\n",
       "      box-shadow: 0px 1px 2px rgba(60, 64, 67, 0.3), 0px 1px 3px 1px rgba(60, 64, 67, 0.15);\n",
       "      fill: #174EA6;\n",
       "    }\n",
       "\n",
       "    .colab-df-buttons div {\n",
       "      margin-bottom: 4px;\n",
       "    }\n",
       "\n",
       "    [theme=dark] .colab-df-convert {\n",
       "      background-color: #3B4455;\n",
       "      fill: #D2E3FC;\n",
       "    }\n",
       "\n",
       "    [theme=dark] .colab-df-convert:hover {\n",
       "      background-color: #434B5C;\n",
       "      box-shadow: 0px 1px 3px 1px rgba(0, 0, 0, 0.15);\n",
       "      filter: drop-shadow(0px 1px 2px rgba(0, 0, 0, 0.3));\n",
       "      fill: #FFFFFF;\n",
       "    }\n",
       "  </style>\n",
       "\n",
       "    <script>\n",
       "      const buttonEl =\n",
       "        document.querySelector('#df-d63baf1b-10e9-4005-8215-c3fdf071553f button.colab-df-convert');\n",
       "      buttonEl.style.display =\n",
       "        google.colab.kernel.accessAllowed ? 'block' : 'none';\n",
       "\n",
       "      async function convertToInteractive(key) {\n",
       "        const element = document.querySelector('#df-d63baf1b-10e9-4005-8215-c3fdf071553f');\n",
       "        const dataTable =\n",
       "          await google.colab.kernel.invokeFunction('convertToInteractive',\n",
       "                                                    [key], {});\n",
       "        if (!dataTable) return;\n",
       "\n",
       "        const docLinkHtml = 'Like what you see? Visit the ' +\n",
       "          '<a target=\"_blank\" href=https://colab.research.google.com/notebooks/data_table.ipynb>data table notebook</a>'\n",
       "          + ' to learn more about interactive tables.';\n",
       "        element.innerHTML = '';\n",
       "        dataTable['output_type'] = 'display_data';\n",
       "        await google.colab.output.renderOutput(dataTable, element);\n",
       "        const docLink = document.createElement('div');\n",
       "        docLink.innerHTML = docLinkHtml;\n",
       "        element.appendChild(docLink);\n",
       "      }\n",
       "    </script>\n",
       "  </div>\n",
       "\n",
       "\n",
       "<div id=\"df-4a1a5db5-7834-467d-94e9-98e8b0488517\">\n",
       "  <button class=\"colab-df-quickchart\" onclick=\"quickchart('df-4a1a5db5-7834-467d-94e9-98e8b0488517')\"\n",
       "            title=\"Suggest charts.\"\n",
       "            style=\"display:none;\">\n",
       "\n",
       "<svg xmlns=\"http://www.w3.org/2000/svg\" height=\"24px\"viewBox=\"0 0 24 24\"\n",
       "     width=\"24px\">\n",
       "    <g>\n",
       "        <path d=\"M19 3H5c-1.1 0-2 .9-2 2v14c0 1.1.9 2 2 2h14c1.1 0 2-.9 2-2V5c0-1.1-.9-2-2-2zM9 17H7v-7h2v7zm4 0h-2V7h2v10zm4 0h-2v-4h2v4z\"/>\n",
       "    </g>\n",
       "</svg>\n",
       "  </button>\n",
       "\n",
       "<style>\n",
       "  .colab-df-quickchart {\n",
       "      --bg-color: #E8F0FE;\n",
       "      --fill-color: #1967D2;\n",
       "      --hover-bg-color: #E2EBFA;\n",
       "      --hover-fill-color: #174EA6;\n",
       "      --disabled-fill-color: #AAA;\n",
       "      --disabled-bg-color: #DDD;\n",
       "  }\n",
       "\n",
       "  [theme=dark] .colab-df-quickchart {\n",
       "      --bg-color: #3B4455;\n",
       "      --fill-color: #D2E3FC;\n",
       "      --hover-bg-color: #434B5C;\n",
       "      --hover-fill-color: #FFFFFF;\n",
       "      --disabled-bg-color: #3B4455;\n",
       "      --disabled-fill-color: #666;\n",
       "  }\n",
       "\n",
       "  .colab-df-quickchart {\n",
       "    background-color: var(--bg-color);\n",
       "    border: none;\n",
       "    border-radius: 50%;\n",
       "    cursor: pointer;\n",
       "    display: none;\n",
       "    fill: var(--fill-color);\n",
       "    height: 32px;\n",
       "    padding: 0;\n",
       "    width: 32px;\n",
       "  }\n",
       "\n",
       "  .colab-df-quickchart:hover {\n",
       "    background-color: var(--hover-bg-color);\n",
       "    box-shadow: 0 1px 2px rgba(60, 64, 67, 0.3), 0 1px 3px 1px rgba(60, 64, 67, 0.15);\n",
       "    fill: var(--button-hover-fill-color);\n",
       "  }\n",
       "\n",
       "  .colab-df-quickchart-complete:disabled,\n",
       "  .colab-df-quickchart-complete:disabled:hover {\n",
       "    background-color: var(--disabled-bg-color);\n",
       "    fill: var(--disabled-fill-color);\n",
       "    box-shadow: none;\n",
       "  }\n",
       "\n",
       "  .colab-df-spinner {\n",
       "    border: 2px solid var(--fill-color);\n",
       "    border-color: transparent;\n",
       "    border-bottom-color: var(--fill-color);\n",
       "    animation:\n",
       "      spin 1s steps(1) infinite;\n",
       "  }\n",
       "\n",
       "  @keyframes spin {\n",
       "    0% {\n",
       "      border-color: transparent;\n",
       "      border-bottom-color: var(--fill-color);\n",
       "      border-left-color: var(--fill-color);\n",
       "    }\n",
       "    20% {\n",
       "      border-color: transparent;\n",
       "      border-left-color: var(--fill-color);\n",
       "      border-top-color: var(--fill-color);\n",
       "    }\n",
       "    30% {\n",
       "      border-color: transparent;\n",
       "      border-left-color: var(--fill-color);\n",
       "      border-top-color: var(--fill-color);\n",
       "      border-right-color: var(--fill-color);\n",
       "    }\n",
       "    40% {\n",
       "      border-color: transparent;\n",
       "      border-right-color: var(--fill-color);\n",
       "      border-top-color: var(--fill-color);\n",
       "    }\n",
       "    60% {\n",
       "      border-color: transparent;\n",
       "      border-right-color: var(--fill-color);\n",
       "    }\n",
       "    80% {\n",
       "      border-color: transparent;\n",
       "      border-right-color: var(--fill-color);\n",
       "      border-bottom-color: var(--fill-color);\n",
       "    }\n",
       "    90% {\n",
       "      border-color: transparent;\n",
       "      border-bottom-color: var(--fill-color);\n",
       "    }\n",
       "  }\n",
       "</style>\n",
       "\n",
       "  <script>\n",
       "    async function quickchart(key) {\n",
       "      const quickchartButtonEl =\n",
       "        document.querySelector('#' + key + ' button');\n",
       "      quickchartButtonEl.disabled = true;  // To prevent multiple clicks.\n",
       "      quickchartButtonEl.classList.add('colab-df-spinner');\n",
       "      try {\n",
       "        const charts = await google.colab.kernel.invokeFunction(\n",
       "            'suggestCharts', [key], {});\n",
       "      } catch (error) {\n",
       "        console.error('Error during call to suggestCharts:', error);\n",
       "      }\n",
       "      quickchartButtonEl.classList.remove('colab-df-spinner');\n",
       "      quickchartButtonEl.classList.add('colab-df-quickchart-complete');\n",
       "    }\n",
       "    (() => {\n",
       "      let quickchartButtonEl =\n",
       "        document.querySelector('#df-4a1a5db5-7834-467d-94e9-98e8b0488517 button');\n",
       "      quickchartButtonEl.style.display =\n",
       "        google.colab.kernel.accessAllowed ? 'block' : 'none';\n",
       "    })();\n",
       "  </script>\n",
       "</div>\n",
       "    </div>\n",
       "  </div>\n"
      ],
      "text/plain": [
       "       Category                 Message\n",
       "count      5572                    5572\n",
       "unique        2                    5157\n",
       "top         ham  Sorry, I'll call later\n",
       "freq       4825                      30"
      ]
     },
     "execution_count": 7,
     "metadata": {},
     "output_type": "execute_result"
    }
   ],
   "source": [
    "df.describe()"
   ]
  },
  {
   "cell_type": "code",
   "execution_count": 8,
   "id": "WAMu-psamkcp",
   "metadata": {
    "colab": {
     "base_uri": "https://localhost:8080/",
     "height": 671
    },
    "id": "WAMu-psamkcp",
    "outputId": "b6485d61-253f-485f-a6f6-48cd67c91d46"
   },
   "outputs": [
    {
     "name": "stdout",
     "output_type": "stream",
     "text": [
      "--------------------------------------------------\n",
      "Total types of Categories in the dataset:\n",
      "ham     4825\n",
      "spam     747\n",
      "Name: Category, dtype: int64\n",
      "--------------------------------------------------\n",
      "Null values check:\n",
      "Category    0\n",
      "Message     0\n",
      "dtype: int64\n",
      "--------------------------------------------------\n"
     ]
    },
    {
     "data": {
      "text/plain": [
       "<Axes: xlabel='Category', ylabel='count'>"
      ]
     },
     "execution_count": 8,
     "metadata": {},
     "output_type": "execute_result"
    },
    {
     "data": {
      "image/png": "[encoded data removed]",
      "text/plain": [
       "<Figure size 640x480 with 1 Axes>"
      ]
     },
     "metadata": {},
     "output_type": "display_data"
    }
   ],
   "source": [
    "print(\"-\"*50)\n",
    "print(\"Total types of Categories in the dataset:\")\n",
    "print(df['Category'].value_counts())\n",
    "print(\"-\"*50)\n",
    "print(\"Null values check:\")\n",
    "print(df.isna().sum())\n",
    "print(\"-\"*50)\n",
    "sns.countplot(x=\"Category\", data=df)\n"
   ]
  },
  {
   "cell_type": "markdown",
   "id": "91bdedde",
   "metadata": {
    "id": "91bdedde"
   },
   "source": [
    "<span style=\"color: red;\">Question 3 (2 Marks):</span>\n",
    "\n",
    "a) Write Python code to load a text dataset for classification</br>\n",
    "b) Preprocess the text data by tokenizing and applying stemming or lemmatization. Provide Python code for these steps."
   ]
  },
  {
   "cell_type": "markdown",
   "id": "bMF5TwAkBiGL",
   "metadata": {
    "id": "bMF5TwAkBiGL"
   },
   "source": [
    "<span style=\"color: blue;\">a) We loaded the data from file into pandas dataframe type in above step while answering to question 1 using pandas read_csv method\n",
    "</span>"
   ]
  },
  {
   "cell_type": "markdown",
   "id": "wTPcgzR-Bj3T",
   "metadata": {
    "id": "wTPcgzR-Bj3T"
   },
   "source": [
    "b) preprocessing on the text"
   ]
  },
  {
   "cell_type": "markdown",
   "id": "f6a9baf5",
   "metadata": {
    "id": "f6a9baf5"
   },
   "source": [
    "<span style=\"color: blue;\">\n",
    "    <b>doPreprocessing</b> : We are first creating the tokens of sentences. Then, tokenizing the words in a sentence. <br/>\n",
    "    <b>doRemoveStopWords</b> : Remove the stop words from the message tokens as they doesn't hold any meaning because of their redundancy.<br/>\n",
    "    <b>doLemmatization</b> : Performs lemmatization operation on the tokens to get their base form<br/>\n",
    "</span>\n",
    "Before operations lets take a look at top 10 Messages in the dataset"
   ]
  },
  {
   "cell_type": "code",
   "execution_count": 9,
   "id": "4ab6e2b0",
   "metadata": {
    "colab": {
     "base_uri": "https://localhost:8080/",
     "height": 0
    },
    "id": "4ab6e2b0",
    "outputId": "acee44f5-75a5-4018-8369-31fece5b76d0"
   },
   "outputs": [
    {
     "data": {
      "text/plain": [
       "0       Go until jurong point, crazy.. Available only ...\n",
       "1                           Ok lar... Joking wif u oni...\n",
       "2       Free entry in 2 a wkly comp to win FA Cup fina...\n",
       "3       U dun say so early hor... U c already then say...\n",
       "4       Nah I don't think he goes to usf, he lives aro...\n",
       "                              ...                        \n",
       "5567    This is the 2nd time we have tried 2 contact u...\n",
       "5568                 Will ü b going to esplanade fr home?\n",
       "5569    Pity, * was in mood for that. So...any other s...\n",
       "5570    The guy did some bitching but I acted like i'd...\n",
       "5571                           Rofl. Its true to its name\n",
       "Name: Message, Length: 5572, dtype: object"
      ]
     },
     "execution_count": 9,
     "metadata": {},
     "output_type": "execute_result"
    }
   ],
   "source": [
    "df['Message']"
   ]
  },
  {
   "cell_type": "code",
   "execution_count": 10,
   "id": "FAjYUpgzkSk_",
   "metadata": {
    "id": "FAjYUpgzkSk_"
   },
   "outputs": [],
   "source": [
    "# Also convert mixed case letters to lower\n",
    "def doPreprocessing(sentence):\n",
    "    sents = sent_tokenize(sentence)\n",
    "    for sentence in sents:\n",
    "        words = word_tokenize(sentence)\n",
    "        words = [''.join([i if i in string.printable else '' for i in word]) for word in words]\n",
    "        words = [word for word in words if len(word) > 0 and word[0].isalpha()]\n",
    "        words = [w for w in words if not w in string.punctuation]\n",
    "        words = [w.lower() for w in words]\n",
    "    return words\n",
    "\n",
    "df[\"Message\"]=df[\"Message\"].apply(doPreprocessing)\n",
    "\n",
    "\n",
    "#Stopwords removal (not used)\n",
    "def doRemoveStopWords(sentence):\n",
    "    english_stop_words=set(stopwords.words(\"english\"))\n",
    "    keywords=[w for w in sentence if not w in english_stop_words]\n",
    "    return keywords\n",
    "\n",
    "df[\"Message\"]=df[\"Message\"].apply(doRemoveStopWords)\n",
    "\n",
    "#lemmatization (not used)\n",
    "def doLemmatization(sentence):\n",
    "    wordnet_lemmatizer = WordNetLemmatizer()\n",
    "    keywords=[wordnet_lemmatizer.lemmatize(w) for w in sentence]\n",
    "    return keywords\n",
    "\n",
    "df[\"Message\"]=df[\"Message\"].apply(doLemmatization)"
   ]
  },
  {
   "cell_type": "markdown",
   "id": "6a1c31ec",
   "metadata": {
    "id": "6a1c31ec"
   },
   "source": [
    "<span style=\"color: blue;\">After Lemmatization, lets now take a look at the Messages</span>"
   ]
  },
  {
   "cell_type": "code",
   "execution_count": 11,
   "id": "b2179d62",
   "metadata": {
    "colab": {
     "base_uri": "https://localhost:8080/",
     "height": 0
    },
    "id": "b2179d62",
    "outputId": "f39e0ddd-6b27-4f0c-e698-16fa0572c4ff"
   },
   "outputs": [
    {
     "data": {
      "text/plain": [
       "0       [available, bugis, n, great, world, la, e, buf...\n",
       "1                                   [joking, wif, u, oni]\n",
       "2       [text, fa, receive, entry, question, std, txt,...\n",
       "3           [u, dun, say, early, hor, u, c, already, say]\n",
       "4        [nah, n't, think, go, usf, life, around, though]\n",
       "                              ...                        \n",
       "5567                                   [bt-national-rate]\n",
       "5568                      [b, going, esplanade, fr, home]\n",
       "5569                                         [suggestion]\n",
       "5570    [guy, bitching, acted, like, interested, buyin...\n",
       "5571                                         [true, name]\n",
       "Name: Message, Length: 5572, dtype: object"
      ]
     },
     "execution_count": 11,
     "metadata": {},
     "output_type": "execute_result"
    }
   ],
   "source": [
    "df['Message']"
   ]
  },
  {
   "cell_type": "markdown",
   "id": "2ce15820",
   "metadata": {
    "id": "2ce15820"
   },
   "source": []
  },
  {
   "cell_type": "code",
   "execution_count": 12,
   "id": "O5h3_fJ-J1YE",
   "metadata": {
    "colab": {
     "base_uri": "https://localhost:8080/",
     "height": 0
    },
    "id": "O5h3_fJ-J1YE",
    "outputId": "814fa245-7ea5-4eed-f09f-c277ae5f1f0d"
   },
   "outputs": [
    {
     "data": {
      "text/plain": [
       "0       available bugis n great world la e buffet cine...\n",
       "1                                        joking wif u oni\n",
       "2       text fa receive entry question std txt rate c ...\n",
       "3                     u dun say early hor u c already say\n",
       "4                 nah n't think go usf life around though\n",
       "                              ...                        \n",
       "5567                                     bt-national-rate\n",
       "5568                            b going esplanade fr home\n",
       "5569                                           suggestion\n",
       "5570    guy bitching acted like interested buying some...\n",
       "5571                                            true name\n",
       "Name: preprocessed_msg, Length: 5572, dtype: object"
      ]
     },
     "execution_count": 12,
     "metadata": {},
     "output_type": "execute_result"
    }
   ],
   "source": [
    "mgs_category_class = {\"ham\":0,\"spam\":1}\n",
    "df['preprocessed_msg'] = df[\"Message\"]\n",
    "df[\"preprocessed_msg\"] = df[\"preprocessed_msg\"].map(\" \".join)\n",
    "df['preprocessed_msg']\n"
   ]
  },
  {
   "cell_type": "code",
   "execution_count": 13,
   "id": "kvnCwYrg7Z_Y",
   "metadata": {
    "colab": {
     "base_uri": "https://localhost:8080/",
     "height": 423
    },
    "id": "kvnCwYrg7Z_Y",
    "outputId": "83a4411d-0b3c-41f1-f7f8-dc64c01941bc"
   },
   "outputs": [
    {
     "data": {
      "text/html": [
       "\n",
       "  <div id=\"df-2fc2cee1-221a-4c51-bc40-c47ce5c8edb8\" class=\"colab-df-container\">\n",
       "    <div>\n",
       "<style scoped>\n",
       "    .dataframe tbody tr th:only-of-type {\n",
       "        vertical-align: middle;\n",
       "    }\n",
       "\n",
       "    .dataframe tbody tr th {\n",
       "        vertical-align: top;\n",
       "    }\n",
       "\n",
       "    .dataframe thead th {\n",
       "        text-align: right;\n",
       "    }\n",
       "</style>\n",
       "<table border=\"1\" class=\"dataframe\">\n",
       "  <thead>\n",
       "    <tr style=\"text-align: right;\">\n",
       "      <th></th>\n",
       "      <th>Category</th>\n",
       "      <th>Message</th>\n",
       "      <th>preprocessed_msg</th>\n",
       "    </tr>\n",
       "  </thead>\n",
       "  <tbody>\n",
       "    <tr>\n",
       "      <th>0</th>\n",
       "      <td>ham</td>\n",
       "      <td>[available, bugis, n, great, world, la, e, buf...</td>\n",
       "      <td>available bugis n great world la e buffet cine...</td>\n",
       "    </tr>\n",
       "    <tr>\n",
       "      <th>1</th>\n",
       "      <td>ham</td>\n",
       "      <td>[joking, wif, u, oni]</td>\n",
       "      <td>joking wif u oni</td>\n",
       "    </tr>\n",
       "    <tr>\n",
       "      <th>2</th>\n",
       "      <td>spam</td>\n",
       "      <td>[text, fa, receive, entry, question, std, txt,...</td>\n",
       "      <td>text fa receive entry question std txt rate c ...</td>\n",
       "    </tr>\n",
       "    <tr>\n",
       "      <th>3</th>\n",
       "      <td>ham</td>\n",
       "      <td>[u, dun, say, early, hor, u, c, already, say]</td>\n",
       "      <td>u dun say early hor u c already say</td>\n",
       "    </tr>\n",
       "    <tr>\n",
       "      <th>4</th>\n",
       "      <td>ham</td>\n",
       "      <td>[nah, n't, think, go, usf, life, around, though]</td>\n",
       "      <td>nah n't think go usf life around though</td>\n",
       "    </tr>\n",
       "    <tr>\n",
       "      <th>...</th>\n",
       "      <td>...</td>\n",
       "      <td>...</td>\n",
       "      <td>...</td>\n",
       "    </tr>\n",
       "    <tr>\n",
       "      <th>5567</th>\n",
       "      <td>spam</td>\n",
       "      <td>[bt-national-rate]</td>\n",
       "      <td>bt-national-rate</td>\n",
       "    </tr>\n",
       "    <tr>\n",
       "      <th>5568</th>\n",
       "      <td>ham</td>\n",
       "      <td>[b, going, esplanade, fr, home]</td>\n",
       "      <td>b going esplanade fr home</td>\n",
       "    </tr>\n",
       "    <tr>\n",
       "      <th>5569</th>\n",
       "      <td>ham</td>\n",
       "      <td>[suggestion]</td>\n",
       "      <td>suggestion</td>\n",
       "    </tr>\n",
       "    <tr>\n",
       "      <th>5570</th>\n",
       "      <td>ham</td>\n",
       "      <td>[guy, bitching, acted, like, interested, buyin...</td>\n",
       "      <td>guy bitching acted like interested buying some...</td>\n",
       "    </tr>\n",
       "    <tr>\n",
       "      <th>5571</th>\n",
       "      <td>ham</td>\n",
       "      <td>[true, name]</td>\n",
       "      <td>true name</td>\n",
       "    </tr>\n",
       "  </tbody>\n",
       "</table>\n",
       "<p>5572 rows × 3 columns</p>\n",
       "</div>\n",
       "    <div class=\"colab-df-buttons\">\n",
       "\n",
       "  <div class=\"colab-df-container\">\n",
       "    <button class=\"colab-df-convert\" onclick=\"convertToInteractive('df-2fc2cee1-221a-4c51-bc40-c47ce5c8edb8')\"\n",
       "            title=\"Convert this dataframe to an interactive table.\"\n",
       "            style=\"display:none;\">\n",
       "\n",
       "  <svg xmlns=\"http://www.w3.org/2000/svg\" height=\"24px\" viewBox=\"0 -960 960 960\">\n",
       "    <path d=\"M120-120v-720h720v720H120Zm60-500h600v-160H180v160Zm220 220h160v-160H400v160Zm0 220h160v-160H400v160ZM180-400h160v-160H180v160Zm440 0h160v-160H620v160ZM180-180h160v-160H180v160Zm440 0h160v-160H620v160Z\"/>\n",
       "  </svg>\n",
       "    </button>\n",
       "\n",
       "  <style>\n",
       "    .colab-df-container {\n",
       "      display:flex;\n",
       "      gap: 12px;\n",
       "    }\n",
       "\n",
       "    .colab-df-convert {\n",
       "      background-color: #E8F0FE;\n",
       "      border: none;\n",
       "      border-radius: 50%;\n",
       "      cursor: pointer;\n",
       "      display: none;\n",
       "      fill: #1967D2;\n",
       "      height: 32px;\n",
       "      padding: 0 0 0 0;\n",
       "      width: 32px;\n",
       "    }\n",
       "\n",
       "    .colab-df-convert:hover {\n",
       "      background-color: #E2EBFA;\n",
       "      box-shadow: 0px 1px 2px rgba(60, 64, 67, 0.3), 0px 1px 3px 1px rgba(60, 64, 67, 0.15);\n",
       "      fill: #174EA6;\n",
       "    }\n",
       "\n",
       "    .colab-df-buttons div {\n",
       "      margin-bottom: 4px;\n",
       "    }\n",
       "\n",
       "    [theme=dark] .colab-df-convert {\n",
       "      background-color: #3B4455;\n",
       "      fill: #D2E3FC;\n",
       "    }\n",
       "\n",
       "    [theme=dark] .colab-df-convert:hover {\n",
       "      background-color: #434B5C;\n",
       "      box-shadow: 0px 1px 3px 1px rgba(0, 0, 0, 0.15);\n",
       "      filter: drop-shadow(0px 1px 2px rgba(0, 0, 0, 0.3));\n",
       "      fill: #FFFFFF;\n",
       "    }\n",
       "  </style>\n",
       "\n",
       "    <script>\n",
       "      const buttonEl =\n",
       "        document.querySelector('#df-2fc2cee1-221a-4c51-bc40-c47ce5c8edb8 button.colab-df-convert');\n",
       "      buttonEl.style.display =\n",
       "        google.colab.kernel.accessAllowed ? 'block' : 'none';\n",
       "\n",
       "      async function convertToInteractive(key) {\n",
       "        const element = document.querySelector('#df-2fc2cee1-221a-4c51-bc40-c47ce5c8edb8');\n",
       "        const dataTable =\n",
       "          await google.colab.kernel.invokeFunction('convertToInteractive',\n",
       "                                                    [key], {});\n",
       "        if (!dataTable) return;\n",
       "\n",
       "        const docLinkHtml = 'Like what you see? Visit the ' +\n",
       "          '<a target=\"_blank\" href=https://colab.research.google.com/notebooks/data_table.ipynb>data table notebook</a>'\n",
       "          + ' to learn more about interactive tables.';\n",
       "        element.innerHTML = '';\n",
       "        dataTable['output_type'] = 'display_data';\n",
       "        await google.colab.output.renderOutput(dataTable, element);\n",
       "        const docLink = document.createElement('div');\n",
       "        docLink.innerHTML = docLinkHtml;\n",
       "        element.appendChild(docLink);\n",
       "      }\n",
       "    </script>\n",
       "  </div>\n",
       "\n",
       "\n",
       "<div id=\"df-17807139-ef25-4a49-bdbf-255927c46a34\">\n",
       "  <button class=\"colab-df-quickchart\" onclick=\"quickchart('df-17807139-ef25-4a49-bdbf-255927c46a34')\"\n",
       "            title=\"Suggest charts.\"\n",
       "            style=\"display:none;\">\n",
       "\n",
       "<svg xmlns=\"http://www.w3.org/2000/svg\" height=\"24px\"viewBox=\"0 0 24 24\"\n",
       "     width=\"24px\">\n",
       "    <g>\n",
       "        <path d=\"M19 3H5c-1.1 0-2 .9-2 2v14c0 1.1.9 2 2 2h14c1.1 0 2-.9 2-2V5c0-1.1-.9-2-2-2zM9 17H7v-7h2v7zm4 0h-2V7h2v10zm4 0h-2v-4h2v4z\"/>\n",
       "    </g>\n",
       "</svg>\n",
       "  </button>\n",
       "\n",
       "<style>\n",
       "  .colab-df-quickchart {\n",
       "      --bg-color: #E8F0FE;\n",
       "      --fill-color: #1967D2;\n",
       "      --hover-bg-color: #E2EBFA;\n",
       "      --hover-fill-color: #174EA6;\n",
       "      --disabled-fill-color: #AAA;\n",
       "      --disabled-bg-color: #DDD;\n",
       "  }\n",
       "\n",
       "  [theme=dark] .colab-df-quickchart {\n",
       "      --bg-color: #3B4455;\n",
       "      --fill-color: #D2E3FC;\n",
       "      --hover-bg-color: #434B5C;\n",
       "      --hover-fill-color: #FFFFFF;\n",
       "      --disabled-bg-color: #3B4455;\n",
       "      --disabled-fill-color: #666;\n",
       "  }\n",
       "\n",
       "  .colab-df-quickchart {\n",
       "    background-color: var(--bg-color);\n",
       "    border: none;\n",
       "    border-radius: 50%;\n",
       "    cursor: pointer;\n",
       "    display: none;\n",
       "    fill: var(--fill-color);\n",
       "    height: 32px;\n",
       "    padding: 0;\n",
       "    width: 32px;\n",
       "  }\n",
       "\n",
       "  .colab-df-quickchart:hover {\n",
       "    background-color: var(--hover-bg-color);\n",
       "    box-shadow: 0 1px 2px rgba(60, 64, 67, 0.3), 0 1px 3px 1px rgba(60, 64, 67, 0.15);\n",
       "    fill: var(--button-hover-fill-color);\n",
       "  }\n",
       "\n",
       "  .colab-df-quickchart-complete:disabled,\n",
       "  .colab-df-quickchart-complete:disabled:hover {\n",
       "    background-color: var(--disabled-bg-color);\n",
       "    fill: var(--disabled-fill-color);\n",
       "    box-shadow: none;\n",
       "  }\n",
       "\n",
       "  .colab-df-spinner {\n",
       "    border: 2px solid var(--fill-color);\n",
       "    border-color: transparent;\n",
       "    border-bottom-color: var(--fill-color);\n",
       "    animation:\n",
       "      spin 1s steps(1) infinite;\n",
       "  }\n",
       "\n",
       "  @keyframes spin {\n",
       "    0% {\n",
       "      border-color: transparent;\n",
       "      border-bottom-color: var(--fill-color);\n",
       "      border-left-color: var(--fill-color);\n",
       "    }\n",
       "    20% {\n",
       "      border-color: transparent;\n",
       "      border-left-color: var(--fill-color);\n",
       "      border-top-color: var(--fill-color);\n",
       "    }\n",
       "    30% {\n",
       "      border-color: transparent;\n",
       "      border-left-color: var(--fill-color);\n",
       "      border-top-color: var(--fill-color);\n",
       "      border-right-color: var(--fill-color);\n",
       "    }\n",
       "    40% {\n",
       "      border-color: transparent;\n",
       "      border-right-color: var(--fill-color);\n",
       "      border-top-color: var(--fill-color);\n",
       "    }\n",
       "    60% {\n",
       "      border-color: transparent;\n",
       "      border-right-color: var(--fill-color);\n",
       "    }\n",
       "    80% {\n",
       "      border-color: transparent;\n",
       "      border-right-color: var(--fill-color);\n",
       "      border-bottom-color: var(--fill-color);\n",
       "    }\n",
       "    90% {\n",
       "      border-color: transparent;\n",
       "      border-bottom-color: var(--fill-color);\n",
       "    }\n",
       "  }\n",
       "</style>\n",
       "\n",
       "  <script>\n",
       "    async function quickchart(key) {\n",
       "      const quickchartButtonEl =\n",
       "        document.querySelector('#' + key + ' button');\n",
       "      quickchartButtonEl.disabled = true;  // To prevent multiple clicks.\n",
       "      quickchartButtonEl.classList.add('colab-df-spinner');\n",
       "      try {\n",
       "        const charts = await google.colab.kernel.invokeFunction(\n",
       "            'suggestCharts', [key], {});\n",
       "      } catch (error) {\n",
       "        console.error('Error during call to suggestCharts:', error);\n",
       "      }\n",
       "      quickchartButtonEl.classList.remove('colab-df-spinner');\n",
       "      quickchartButtonEl.classList.add('colab-df-quickchart-complete');\n",
       "    }\n",
       "    (() => {\n",
       "      let quickchartButtonEl =\n",
       "        document.querySelector('#df-17807139-ef25-4a49-bdbf-255927c46a34 button');\n",
       "      quickchartButtonEl.style.display =\n",
       "        google.colab.kernel.accessAllowed ? 'block' : 'none';\n",
       "    })();\n",
       "  </script>\n",
       "</div>\n",
       "    </div>\n",
       "  </div>\n"
      ],
      "text/plain": [
       "     Category                                            Message  \\\n",
       "0         ham  [available, bugis, n, great, world, la, e, buf...   \n",
       "1         ham                              [joking, wif, u, oni]   \n",
       "2        spam  [text, fa, receive, entry, question, std, txt,...   \n",
       "3         ham      [u, dun, say, early, hor, u, c, already, say]   \n",
       "4         ham   [nah, n't, think, go, usf, life, around, though]   \n",
       "...       ...                                                ...   \n",
       "5567     spam                                 [bt-national-rate]   \n",
       "5568      ham                    [b, going, esplanade, fr, home]   \n",
       "5569      ham                                       [suggestion]   \n",
       "5570      ham  [guy, bitching, acted, like, interested, buyin...   \n",
       "5571      ham                                       [true, name]   \n",
       "\n",
       "                                       preprocessed_msg  \n",
       "0     available bugis n great world la e buffet cine...  \n",
       "1                                      joking wif u oni  \n",
       "2     text fa receive entry question std txt rate c ...  \n",
       "3                   u dun say early hor u c already say  \n",
       "4               nah n't think go usf life around though  \n",
       "...                                                 ...  \n",
       "5567                                   bt-national-rate  \n",
       "5568                          b going esplanade fr home  \n",
       "5569                                         suggestion  \n",
       "5570  guy bitching acted like interested buying some...  \n",
       "5571                                          true name  \n",
       "\n",
       "[5572 rows x 3 columns]"
      ]
     },
     "execution_count": 13,
     "metadata": {},
     "output_type": "execute_result"
    }
   ],
   "source": [
    "df"
   ]
  },
  {
   "cell_type": "markdown",
   "id": "LKgDk3zbmihx",
   "metadata": {
    "id": "LKgDk3zbmihx"
   },
   "source": [
    "<span style=\"color: red;\">\n",
    "Question 4 (1 Marks):</span>\n",
    "\n",
    "Split/Assign the dataset into training and testing sets using Python.\n",
    "\n",
    "<span style=\"color: blue;\">\n",
    "    Splitting the data in 80/20 ratio for training and testing\n",
    "    </span>"
   ]
  },
  {
   "cell_type": "code",
   "execution_count": 14,
   "id": "9v-eXcVdlxEt",
   "metadata": {
    "id": "9v-eXcVdlxEt"
   },
   "outputs": [],
   "source": [
    "labels = df[\"Category\"]\n",
    "data = df[\"preprocessed_msg\"]\n",
    "X_train, X_test, y_train, y_test = train_test_split(data, labels, test_size=0.2, random_state=38, shuffle = True)"
   ]
  },
  {
   "cell_type": "markdown",
   "id": "xPTWAmHVmkrK",
   "metadata": {
    "id": "xPTWAmHVmkrK"
   },
   "source": [
    "<span style=\"color: red;\">\n",
    "Question 5 (3 Marks):\n",
    "</span>\n",
    "\n",
    "a) Implement a text classification model (e.g., Naive Bayes or SVM) using Python's machine learning libraries.<br/>\n",
    "b) Train the model on the training dataset and evaluate its performance on the testing dataset. Include code for both training and evaluation.\n",
    "\n",
    "<span style=\"color: blue;\">\n",
    "    Here, we are implementing Naive Bayes model for classification\n",
    "    </span>"
   ]
  },
  {
   "cell_type": "code",
   "execution_count": 15,
   "id": "oGp8tE01mq5D",
   "metadata": {
    "id": "oGp8tE01mq5D"
   },
   "outputs": [],
   "source": [
    "\n",
    "pipeline = Pipeline([\n",
    "    ('tfidf', TfidfVectorizer(max_features = 2000)),\n",
    "    ('svm_classifier', naive_bayes.MultinomialNB())\n",
    "])"
   ]
  },
  {
   "cell_type": "code",
   "execution_count": 16,
   "id": "q3ERnI-ABYqo",
   "metadata": {
    "id": "q3ERnI-ABYqo"
   },
   "outputs": [],
   "source": [
    "pipeline.fit(X_train, y_train)\n",
    "y_pred = pipeline.predict(X_test)\n"
   ]
  },
  {
   "cell_type": "code",
   "execution_count": 17,
   "id": "LFOoNn7CBeVA",
   "metadata": {
    "colab": {
     "base_uri": "https://localhost:8080/",
     "height": 0
    },
    "id": "LFOoNn7CBeVA",
    "outputId": "4909d313-1daf-4d35-e0d8-7f3ef4d8fa76"
   },
   "outputs": [
    {
     "name": "stdout",
     "output_type": "stream",
     "text": [
      "Accuracy: 0.9542600896860987\n"
     ]
    }
   ],
   "source": [
    "accuracy = accuracy_score(y_test, y_pred)\n",
    "print(f\"Accuracy: {accuracy}\")"
   ]
  },
  {
   "cell_type": "markdown",
   "id": "kF0O991Wmryj",
   "metadata": {
    "id": "kF0O991Wmryj"
   },
   "source": [
    "<span style=\"color: red;\">\n",
    "    Question 6 (2 Marks):\n",
    "</span>\n",
    "Using Python code, calculate important metrics like accuracy, precision, recall, and F1-score for the text classification model's performance on the testing dataset.\n",
    "\n"
   ]
  },
  {
   "cell_type": "code",
   "execution_count": 18,
   "id": "FmpszwxmmsDR",
   "metadata": {
    "colab": {
     "base_uri": "https://localhost:8080/",
     "height": 0
    },
    "id": "FmpszwxmmsDR",
    "outputId": "265b6b5f-b7b2-46fe-93ec-2843a4e978a4"
   },
   "outputs": [
    {
     "name": "stdout",
     "output_type": "stream",
     "text": [
      "Naive Bayes Accuracy acore: 0.9542600896860987\n",
      "Precision: 0.9751703992210321\n",
      "Recall: 0.8165467625899281\n",
      "F1 Score: 0.8749342945933523\n",
      "--------------------------------------------------------------------------------\n",
      "              precision    recall  f1-score   support\n",
      "\n",
      "         ham       0.95      1.00      0.97       976\n",
      "        spam       1.00      0.63      0.78       139\n",
      "\n",
      "    accuracy                           0.95      1115\n",
      "   macro avg       0.98      0.82      0.87      1115\n",
      "weighted avg       0.96      0.95      0.95      1115\n",
      "\n"
     ]
    }
   ],
   "source": [
    "precision = precision_score(y_test, y_pred, average='macro')\n",
    "recall = recall_score(y_test, y_pred, average='macro')\n",
    "f1 = f1_score(y_test, y_pred, average='macro')\n",
    "print(f\"Naive Bayes Accuracy acore: {accuracy}\")\n",
    "print(f\"Precision: {precision}\")\n",
    "print(f\"Recall: {recall}\")\n",
    "print(f\"F1 Score: {f1}\")\n",
    "print(\"-\"*80)\n",
    "print(classification_report(y_test, y_pred))"
   ]
  },
  {
   "cell_type": "code",
   "execution_count": 19,
   "id": "r_vlI0AQCeRc",
   "metadata": {
    "colab": {
     "base_uri": "https://localhost:8080/",
     "height": 368
    },
    "id": "r_vlI0AQCeRc",
    "outputId": "b8218a3d-18ff-4c25-e342-c8ff5e2ac11d"
   },
   "outputs": [
    {
     "data": {
      "image/png": "[encoded data removed]",
      "text/plain": [
       "<Figure size 500x400 with 2 Axes>"
      ]
     },
     "metadata": {},
     "output_type": "display_data"
    }
   ],
   "source": [
    "def plot_confusion_matrix(y_test, y_pred):\n",
    "    confusion_mtx = confusion_matrix(y_test, y_pred)\n",
    "    plt.figure(figsize=(5, 4))\n",
    "    c = sns.heatmap(confusion_mtx, annot=True, fmt='d', cmap='Blues')\n",
    "    c.set(xticklabels=mgs_category_class, yticklabels=mgs_category_class)\n",
    "\n",
    "plot_confusion_matrix(y_test, y_pred)"
   ]
  },
  {
   "cell_type": "markdown",
   "id": "xAAgcdjMmwXn",
   "metadata": {
    "id": "xAAgcdjMmwXn"
   },
   "source": [
    "<span style=\"color: red;\">\n",
    "Question 7 (2 Marks):\n",
    "</span>\n",
    "\n",
    "Implement a method for feature selection or feature extraction in text classification. Provide Python code for this step and explain its significance.\n",
    "\n"
   ]
  },
  {
   "cell_type": "markdown",
   "id": "9v7wtk1MCjlb",
   "metadata": {
    "id": "9v7wtk1MCjlb"
   },
   "source": [
    "<span style=\"color: blue;\">Dimensionality reduction is generally performed when high dimensional data like text are classified. This can be done either by using feature extraction techniques or by using feature selection techniques</span>"
   ]
  },
  {
   "cell_type": "markdown",
   "id": "npathi5WME35",
   "metadata": {
    "id": "npathi5WME35"
   },
   "source": [
    "<span style=\"color: blue;\">Features extraction techniques to convert text into a matrix(or vector) of features. Some of the most popular methods of feature extraction are:<br/>\n",
    "    1. Bag-of-Words: This can be used to extract the frequently used words.<br/>\n",
    "    2. TF-IDF: it has a parameter of max_features which is used to control the no. of dimensions basically.\n",
    "    \n",
    "</span>\n",
    "\n",
    "<b>In our code we have used TF-IDF feature extraction technique which is clearly part of our pipeline and can be seen in answer to question 5 and the max features to be created has been limited to 2000</b>"
   ]
  },
  {
   "cell_type": "markdown",
   "id": "62fb4b22",
   "metadata": {
    "id": "62fb4b22"
   },
   "source": [
    "<span style=\"color: red;\">\n",
    "Question 8 (2 Marks):\n",
    "</span>\n",
    "\n",
    "Implement k-fold cross-validation in Python for the given dataset and classifier."
   ]
  },
  {
   "cell_type": "code",
   "execution_count": 22,
   "id": "KJHC6BgvlehD",
   "metadata": {
    "id": "KJHC6BgvlehD"
   },
   "outputs": [],
   "source": [
    "\n",
    "\n",
    "Naive = naive_bayes.MultinomialNB()\n",
    "Encoder = LabelEncoder()\n",
    "n = 10\n",
    "x_train, x_test, y_train, y_test = train_test_split(df['preprocessed_msg'], df['Category'], test_size=0.1, random_state=None)\n",
    "folds = KFold(n_splits = n, shuffle = True, random_state = 38)\n",
    "\n",
    "Train_Y = Encoder.fit_transform(y_train)\n",
    "Test_Y = Encoder.fit_transform(y_test)\n",
    "\n",
    "Tfidf_vect = TfidfVectorizer(max_features=2000)\n",
    "Tfidf_vect.fit(df['preprocessed_msg'])\n",
    "Train_X_Tfidf = Tfidf_vect.transform(x_train)\n",
    "Test_X_Tfidf = Tfidf_vect.transform(x_test)\n",
    "\n",
    "Naive.fit(Train_X_Tfidf,Train_Y)\n",
    "# predict the labels on validation dataset\n",
    "predictions_NB = Naive.predict(Test_X_Tfidf)\n",
    "scores = cross_val_score(Naive, Train_X_Tfidf, np.ravel(Train_Y, order='C'), scoring='f1', cv=folds)\n",
    "pre = cross_val_score(Naive, Train_X_Tfidf, np.ravel(Train_Y, order='C'), scoring='precision', cv=folds)\n",
    "rec = cross_val_score(Naive, Train_X_Tfidf, np.ravel(Train_Y, order='C'), scoring='recall', cv=folds)\n",
    "acc = cross_val_score(Naive, Train_X_Tfidf, np.ravel(Train_Y, order='C'), scoring='accuracy', cv=folds)\n",
    "\n"
   ]
  },
  {
   "cell_type": "code",
   "execution_count": 23,
   "id": "IwW-ONb2IH-L",
   "metadata": {
    "colab": {
     "base_uri": "https://localhost:8080/",
     "height": 0
    },
    "id": "IwW-ONb2IH-L",
    "outputId": "c6c4b30a-d13a-4dc2-d52f-0dcb5b3cf186"
   },
   "outputs": [
    {
     "name": "stdout",
     "output_type": "stream",
     "text": [
      "Fold 1 has F1 score 0.73, accuracy: 0.94, recall: 0.58, precision :1.00\n",
      "Fold 2 has F1 score 0.69, accuracy: 0.94, recall: 0.52, precision :1.00\n",
      "Fold 3 has F1 score 0.77, accuracy: 0.95, recall: 0.64, precision :0.98\n",
      "Fold 4 has F1 score 0.78, accuracy: 0.94, recall: 0.65, precision :0.96\n",
      "Fold 5 has F1 score 0.80, accuracy: 0.96, recall: 0.67, precision :0.97\n",
      "Fold 6 has F1 score 0.77, accuracy: 0.95, recall: 0.65, precision :0.95\n",
      "Fold 7 has F1 score 0.74, accuracy: 0.94, recall: 0.60, precision :0.98\n",
      "Fold 8 has F1 score 0.86, accuracy: 0.97, recall: 0.78, precision :0.96\n",
      "Fold 9 has F1 score 0.82, accuracy: 0.96, recall: 0.72, precision :0.96\n",
      "Fold 10 has F1 score 0.77, accuracy: 0.94, recall: 0.62, precision :1.00\n",
      "----------------------------------------------------------------------------------------------------\n",
      "Average f1 score of 10 folds 77.28%\n",
      "Average accuracy of 10 folds 94.93%\n",
      "Average recall of 10 folds 64.30%\n",
      "Average precision of 10 folds 97.65%\n"
     ]
    }
   ],
   "source": [
    "for i in range(0,n):\n",
    "  print(f\"Fold {i+1} has F1 score {scores[i]:.2f}, accuracy: {acc[i]:.2f}, recall: {rec[i]:.2f}, precision :{pre[i]:.2f}\")\n",
    "\n",
    "print('-'*100)\n",
    "print(f\"Average f1 score of 10 folds {np.average(scores)*100:.2f}%\")\n",
    "print(f'Average accuracy of 10 folds {np.average(acc)*100:.2f}%')\n",
    "print(f'Average recall of 10 folds {np.average(rec)*100:.2f}%')\n",
    "print(f'Average precision of 10 folds {np.average(pre)*100:.2f}%')\n"
   ]
  },
  {
   "cell_type": "markdown",
   "id": "dLzkXNH7JQkU",
   "metadata": {
    "id": "dLzkXNH7JQkU"
   },
   "source": [
    "<span style=\"color: blue;\">As we have class imbalance data set as we have seen that most of the data belongs to 'ham' class. That's why the recall scode is coming low in comparison to our basic naive bayes model</span>"
   ]
  },
  {
   "cell_type": "markdown",
   "id": "uuZMexiH25zf",
   "metadata": {
    "id": "uuZMexiH25zf"
   },
   "source": [
    "END of Assignment!"
   ]
  }
 ],
 "metadata": {
  "colab": {
   "provenance": []
  },
  "kernelspec": {
   "display_name": "Python 3 (ipykernel)",
   "language": "python",
   "name": "python3"
  },
  "language_info": {
   "codemirror_mode": {
    "name": "ipython",
    "version": 3
   },
   "file_extension": ".py",
   "mimetype": "text/x-python",
   "name": "python",
   "nbconvert_exporter": "python",
   "pygments_lexer": "ipython3",
   "version": "3.9.13"
  }
 },
 "nbformat": 4,
 "nbformat_minor": 5
}
