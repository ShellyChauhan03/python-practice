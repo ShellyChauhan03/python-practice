{
 "cells": [
  {
   "cell_type": "code",
   "execution_count": 3,
   "id": "e71dcce2",
   "metadata": {},
   "outputs": [
    {
     "name": "stdout",
     "output_type": "stream",
     "text": [
      "1 1 1 1 1 1 1 1 1 1 "
     ]
    }
   ],
   "source": [
    "# Numpy Array Iteration\n",
    "import numpy as np\n",
    "arr = np.ones(10, dtype='int')\n",
    "for a in arr:\n",
    "    print(a, end=\" \")"
   ]
  },
  {
   "cell_type": "code",
   "execution_count": 6,
   "id": "3d45c90d",
   "metadata": {},
   "outputs": [
    {
     "name": "stdout",
     "output_type": "stream",
     "text": [
      "[1 2 3 4 5] [6 7 8 9 0] \n",
      "1,2,3,4,5,6,7,8,9,0,"
     ]
    }
   ],
   "source": [
    "twodarr = np.array([[1,2,3,4,5],[6,7,8,9,0]])\n",
    "for a in twodarr:\n",
    "    print(a, end=\" \")\n",
    "print()\n",
    "for a in twodarr:\n",
    "    for b in a:\n",
    "        print(b, end=\",\")"
   ]
  },
  {
   "cell_type": "code",
   "execution_count": 8,
   "id": "884048d1",
   "metadata": {},
   "outputs": [
    {
     "name": "stdout",
     "output_type": "stream",
     "text": [
      "1, 2, 3, 4, 5, 6, 7, 8, "
     ]
    }
   ],
   "source": [
    "# scalar, series, framework\n",
    "arr = np.array([[[1, 2], [3, 4]], [[5, 6], [7, 8]]])\n",
    "# nditer- n dimensional iterator\n",
    "for x in np.nditer(arr):\n",
    "    print(x, end=\", \")\n",
    "#for x in np.nditer(arr, flags=['buffered'], op_dtypes=['S']):\n",
    "#    print(x)\n"
   ]
  },
  {
   "cell_type": "code",
   "execution_count": 10,
   "id": "79b0e729",
   "metadata": {},
   "outputs": [
    {
     "name": "stdout",
     "output_type": "stream",
     "text": [
      "1\n",
      "3\n",
      "5\n",
      "7\n"
     ]
    }
   ],
   "source": [
    "arr = np.array([[1, 2, 3, 4], [5, 6, 7, 8]])\n",
    "\n",
    "for x in np.nditer(arr[:, ::2]):\n",
    "    print(x)"
   ]
  },
  {
   "cell_type": "markdown",
   "id": "c209bb25",
   "metadata": {},
   "source": [
    "<b>Enumerated Iteration Using ndenumerate()</>"
   ]
  },
  {
   "cell_type": "code",
   "execution_count": 11,
   "id": "b6c42b52",
   "metadata": {},
   "outputs": [
    {
     "name": "stdout",
     "output_type": "stream",
     "text": [
      "(0, 0) 1\n",
      "(0, 1) 2\n",
      "(0, 2) 3\n",
      "(0, 3) 4\n",
      "(1, 0) 5\n",
      "(1, 1) 6\n",
      "(1, 2) 7\n",
      "(1, 3) 8\n"
     ]
    }
   ],
   "source": [
    "# Enumerated Iteration Using ndenumerate()\n",
    "# Enumeration means mentioning sequence number of somethings one by one.\n",
    "for idx, x in np.ndenumerate(arr):\n",
    "    print(idx, x)"
   ]
  },
  {
   "cell_type": "code",
   "execution_count": 23,
   "id": "a767ba85",
   "metadata": {},
   "outputs": [
    {
     "name": "stdout",
     "output_type": "stream",
     "text": [
      "[1 2 3 4 5 6]\n",
      "[[ 1  2  3 11 22 33]\n",
      " [ 4  5  6 44 55 66]]\n",
      "[[ 3  4  5 13 24 35]\n",
      " [ 6  7  8 46 57 68]]\n"
     ]
    }
   ],
   "source": [
    "# Joining NumPy Arrays\n",
    "# We pass a sequence of arrays that we want to join to the concatenate() function, along with the axis.\n",
    "# If axis is not explicitly passed, it is taken as 0.\n",
    "b1 = np.array([1,2,3])\n",
    "b2 = np.array([4,5,6])\n",
    "c = np.concatenate((b1,b2),0)\n",
    "print(c)\n",
    "ab1 = np.array([[1,2,3],[4,5,6]])\n",
    "ab2 = np.array([[11,22,33],[44,55,66]])\n",
    "ac = np.concatenate((ab1,ab2),1)\n",
    "print(ac)\n",
    "print(ac+2)"
   ]
  },
  {
   "cell_type": "markdown",
   "id": "5d5b1cfa",
   "metadata": {},
   "source": [
    "<b>Joining arrays using stack functions</b>"
   ]
  },
  {
   "cell_type": "code",
   "execution_count": 26,
   "id": "be7040c2",
   "metadata": {},
   "outputs": [
    {
     "name": "stdout",
     "output_type": "stream",
     "text": [
      "[[1 4]\n",
      " [2 5]\n",
      " [3 6]]\n",
      "[[1 2 3]\n",
      " [4 5 6]]\n"
     ]
    }
   ],
   "source": [
    "#We can concatenate two 1-D arrays along the second axis which would result in putting them one over the other, ie. stacking\n",
    "arr1 = np.array([1, 2, 3])\n",
    "arr2 = np.array([4, 5, 6])\n",
    "arr = np.stack((arr1, arr2), axis=1)\n",
    "print(arr)\n",
    "print(np.stack((arr1,arr2)))\n",
    "#explore hstack method yourself."
   ]
  },
  {
   "cell_type": "code",
   "execution_count": 30,
   "id": "1e4bfc99",
   "metadata": {},
   "outputs": [
    {
     "name": "stdout",
     "output_type": "stream",
     "text": [
      "[[[ 1  2]\n",
      "  [ 3  4]\n",
      "  [ 5  6]]\n",
      "\n",
      " [[ 7  8]\n",
      "  [ 9 10]\n",
      "  [11 12]]]\n"
     ]
    }
   ],
   "source": [
    "a = np.array([1,2,3,4,5,6,7,8,9,10,11,12])\n",
    "#convertin 1D array to 3D\n",
    "print(a.reshape(2,3,2))"
   ]
  },
  {
   "cell_type": "code",
   "execution_count": 41,
   "id": "90af8d0e",
   "metadata": {},
   "outputs": [
    {
     "name": "stdout",
     "output_type": "stream",
     "text": [
      "False 11.916666666666666\n",
      "78\n"
     ]
    }
   ],
   "source": [
    "print(np.all(a>10), a.var())\n",
    "print(np.sum(a))"
   ]
  },
  {
   "cell_type": "code",
   "execution_count": 43,
   "id": "1e6eb9e4",
   "metadata": {},
   "outputs": [
    {
     "name": "stdout",
     "output_type": "stream",
     "text": [
      "[[1 4]\n",
      " [2 5]\n",
      " [3 6]] [5 7 9]\n"
     ]
    }
   ],
   "source": [
    "print(arr, np.sum(arr,1))\n",
    "#np.sum(arr, axis=0,1)"
   ]
  },
  {
   "cell_type": "code",
   "execution_count": 46,
   "id": "f9ec5669",
   "metadata": {},
   "outputs": [
    {
     "name": "stdout",
     "output_type": "stream",
     "text": [
      "10000\n",
      "10.6 µs ± 737 ns per loop (mean ± std. dev. of 7 runs, 100000 loops each)\n",
      "781 µs ± 59.5 µs per loop (mean ± std. dev. of 7 runs, 1000 loops each)\n"
     ]
    }
   ],
   "source": [
    "rand = np.arange(1,20000,2)\n",
    "print(rand.size)\n",
    "%timeit np.sum(rand)\n",
    "%timeit sum(rand)"
   ]
  },
  {
   "cell_type": "code",
   "execution_count": 63,
   "id": "e2665f86",
   "metadata": {},
   "outputs": [
    {
     "name": "stdout",
     "output_type": "stream",
     "text": [
      "[ 1  2  3  4  5  6  7  8  9 10 11 12]\n",
      "[False False  True  True  True  True  True  True  True False False False]\n"
     ]
    },
    {
     "data": {
      "text/plain": [
       "3"
      ]
     },
     "execution_count": 63,
     "metadata": {},
     "output_type": "execute_result"
    }
   ],
   "source": [
    "#np.sum is faster than sum funtion given by python\n",
    "print(a)\n",
    "print((a>2) & (a<10))\n",
    "# count the elements which satisfies the condition\n",
    "np.sum((a>6)&(a<10))"
   ]
  },
  {
   "cell_type": "code",
   "execution_count": null,
   "id": "2e44e1d1",
   "metadata": {},
   "outputs": [],
   "source": []
  }
 ],
 "metadata": {
  "kernelspec": {
   "display_name": "Python 3 (ipykernel)",
   "language": "python",
   "name": "python3"
  },
  "language_info": {
   "codemirror_mode": {
    "name": "ipython",
    "version": 3
   },
   "file_extension": ".py",
   "mimetype": "text/x-python",
   "name": "python",
   "nbconvert_exporter": "python",
   "pygments_lexer": "ipython3",
   "version": "3.9.13"
  }
 },
 "nbformat": 4,
 "nbformat_minor": 5
}
