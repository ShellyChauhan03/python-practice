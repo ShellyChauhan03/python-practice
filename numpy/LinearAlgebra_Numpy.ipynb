{
 "cells": [
  {
   "cell_type": "markdown",
   "id": "2e20930e",
   "metadata": {},
   "source": [
    "<b>Linear algebra using NumPy</b>"
   ]
  },
  {
   "cell_type": "code",
   "execution_count": 1,
   "id": "a88e4b87",
   "metadata": {},
   "outputs": [
    {
     "name": "stdout",
     "output_type": "stream",
     "text": [
      "[12.02702703 10.94594595]\n"
     ]
    }
   ],
   "source": [
    "\"\"\"Fruit Seller sold 20 mangos and 10 oranges on Friday for a total of Rs.350/-.\n",
    "He sold 17 mangoes and 27 oranges for Rs 500/- on Saturday. Price of fruit didn't change both days.\n",
    "What's the price of 1 mango and 1 orange.\n",
    "\"\"\"\n",
    "\"\"\"Two equations will be formed\n",
    "    20x + 10y = 350\n",
    "    17x + 27y = 500\n",
    "\"\"\"\n",
    "import numpy as np\n",
    "a1 = np.array([20,10])\n",
    "a2 = np.array([17,27])\n",
    "b = np.array([350,500])\n",
    "#Pass LHS and RHS to the solve function\n",
    "x = np.linalg.solve((a1,a2),b)\n",
    "print(x)\n"
   ]
  },
  {
   "cell_type": "code",
   "execution_count": 2,
   "id": "55ae4402",
   "metadata": {},
   "outputs": [
    {
     "name": "stdout",
     "output_type": "stream",
     "text": [
      "[[1 0 0 0 0]\n",
      " [0 1 0 0 0]\n",
      " [0 0 1 0 0]\n",
      " [0 0 0 1 0]\n",
      " [0 0 0 0 1]]\n",
      "[1 2 3 5 4]\n"
     ]
    }
   ],
   "source": [
    "e = np.eye(5, dtype='int')\n",
    "print(e)\n",
    "a = np.array([1,2,3,5,4])\n",
    "print(a.conjugate())"
   ]
  },
  {
   "cell_type": "code",
   "execution_count": 12,
   "id": "0441b576",
   "metadata": {},
   "outputs": [
    {
     "name": "stdout",
     "output_type": "stream",
     "text": [
      "[1. 1.]\n"
     ]
    }
   ],
   "source": [
    "# eq1 -> 2x + 3y = 5\n",
    "# eq2 -> 8x - 4y = 4\n",
    "lhs = np.array([[2,3], [8,-4]])\n",
    "rhs = np.array([5,4])\n",
    "solution = np.linalg.solve(lhs,rhs)\n",
    "#help(np.linalg.solve)\n",
    "print(solution)\n",
    "#help(np.split)"
   ]
  },
  {
   "cell_type": "code",
   "execution_count": 27,
   "id": "7c634146",
   "metadata": {},
   "outputs": [
    {
     "name": "stdout",
     "output_type": "stream",
     "text": [
      "[array([1, 2, 3, 4, 5, 6]), array([ 7,  8,  9, 10, 11, 12]), array([13, 14, 15, 16, 17, 18])]\n",
      "[array([[ 1,  2],\n",
      "       [ 5,  6],\n",
      "       [ 9, 10]]), array([[ 3,  4],\n",
      "       [ 7,  8],\n",
      "       [11, 12]])]\n"
     ]
    }
   ],
   "source": [
    "arr = np.array([1,2,3,4,5,6,7,8,9,10,11,12,13,14,15,16,17,18])\n",
    "split_arrays = np.split(arr,3)\n",
    "print(split_arrays)\n",
    "#Splitting 2D arrays\n",
    "arr2d = np.array([[1,2,3,4],[5,6,7,8],[9,10,11,12]])\n",
    "result = np.split(arr2d,2, axis=1)\n",
    "print(result)"
   ]
  },
  {
   "cell_type": "code",
   "execution_count": 34,
   "id": "83f77373",
   "metadata": {},
   "outputs": [
    {
     "name": "stdout",
     "output_type": "stream",
     "text": [
      "[ 1  2  3  4  5  6  7  8  9 10 11 12 13 14 15 16 17 18]\n",
      "(array([9], dtype=int64),)\n",
      "[False  True False  True False  True False  True False  True False  True\n",
      " False  True False  True False  True]\n"
     ]
    }
   ],
   "source": [
    "# searching an ndarray array, will return the indexes where value is 2\n",
    "x = np.where(arr ==10)\n",
    "\n",
    "print(arr)\n",
    "\n",
    "print(x)\n",
    "print(arr%2==0)"
   ]
  },
  {
   "cell_type": "code",
   "execution_count": null,
   "id": "219d7f29",
   "metadata": {},
   "outputs": [],
   "source": []
  }
 ],
 "metadata": {
  "kernelspec": {
   "display_name": "Python 3 (ipykernel)",
   "language": "python",
   "name": "python3"
  },
  "language_info": {
   "codemirror_mode": {
    "name": "ipython",
    "version": 3
   },
   "file_extension": ".py",
   "mimetype": "text/x-python",
   "name": "python",
   "nbconvert_exporter": "python",
   "pygments_lexer": "ipython3",
   "version": "3.9.13"
  }
 },
 "nbformat": 4,
 "nbformat_minor": 5
}
