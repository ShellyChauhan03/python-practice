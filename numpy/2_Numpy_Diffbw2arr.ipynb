{
 "cells": [
  {
   "cell_type": "code",
   "execution_count": 19,
   "id": "029d2daf",
   "metadata": {},
   "outputs": [
    {
     "name": "stdout",
     "output_type": "stream",
     "text": [
      "Difference:  [6, 7, 8, 9]\n",
      "[ 2  4  5 10]\n"
     ]
    }
   ],
   "source": [
    "\"\"\"Write a NumPy program\n",
    "to find the set difference of two\n",
    "arrays. The set difference will return the sorted, unique\n",
    "values in array1 that are not in array2.\n",
    "\"\"\"\n",
    "\n",
    "import numpy as np\n",
    "\n",
    "a1 = np.array([10,2,3,4,5])\n",
    "a2 = np.array([6,7,8,9,3])\n",
    "# a2-a1\n",
    "#help(np)\n",
    "# Normally how I would do it\n",
    "res = list()\n",
    "for i in a2:\n",
    "    if i in a1:\n",
    "        pass\n",
    "    else:\n",
    "        res.append(i)\n",
    "print('Difference: ', res)\n",
    "\n",
    "# How its done in Numpy\n",
    "\n",
    "diff = np.setdiff1d(a1,a2)\n",
    "print(diff)"
   ]
  },
  {
   "cell_type": "code",
   "execution_count": null,
   "id": "a4865383",
   "metadata": {},
   "outputs": [],
   "source": []
  }
 ],
 "metadata": {
  "kernelspec": {
   "display_name": "Python 3 (ipykernel)",
   "language": "python",
   "name": "python3"
  },
  "language_info": {
   "codemirror_mode": {
    "name": "ipython",
    "version": 3
   },
   "file_extension": ".py",
   "mimetype": "text/x-python",
   "name": "python",
   "nbconvert_exporter": "python",
   "pygments_lexer": "ipython3",
   "version": "3.9.13"
  }
 },
 "nbformat": 4,
 "nbformat_minor": 5
}
