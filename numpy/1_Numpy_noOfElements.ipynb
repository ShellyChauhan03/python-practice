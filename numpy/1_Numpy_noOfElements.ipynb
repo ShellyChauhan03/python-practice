{
 "cells": [
  {
   "cell_type": "code",
   "execution_count": 10,
   "id": "b54077d6",
   "metadata": {},
   "outputs": [
    {
     "name": "stdout",
     "output_type": "stream",
     "text": [
      "Length of array:  10\n",
      "Length of an array elements:  4\n",
      "Length of array elements in bytes:  40\n",
      "type  <class 'numpy.ndarray'> dtype int32\n"
     ]
    }
   ],
   "source": [
    "\"\"\"Write a NumPy program to find the number of elements\n",
    "of an array, length of one array element in bytes and total\n",
    "bytes consumed by the elements.\n",
    "\"\"\"\n",
    "\n",
    "import numpy as np\n",
    "\n",
    "arr = np.array([1,2,3,4,5,6,7,8,9,10])\n",
    "print('Length of array: ',arr.size)\n",
    "print('Length of an array elements: ', arr.itemsize)\n",
    "print('Length of array elements in bytes: ', arr.nbytes)\n",
    "#help(arr.nbytes)\n",
    "print('type ', type(arr),'dtype',arr.dtype)"
   ]
  },
  {
   "cell_type": "code",
   "execution_count": null,
   "id": "4bcb7e29",
   "metadata": {},
   "outputs": [],
   "source": []
  }
 ],
 "metadata": {
  "kernelspec": {
   "display_name": "Python 3 (ipykernel)",
   "language": "python",
   "name": "python3"
  },
  "language_info": {
   "codemirror_mode": {
    "name": "ipython",
    "version": 3
   },
   "file_extension": ".py",
   "mimetype": "text/x-python",
   "name": "python",
   "nbconvert_exporter": "python",
   "pygments_lexer": "ipython3",
   "version": "3.9.13"
  }
 },
 "nbformat": 4,
 "nbformat_minor": 5
}
