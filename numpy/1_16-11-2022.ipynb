{
 "cells": [
  {
   "cell_type": "code",
   "execution_count": 2,
   "id": "72cb0e94",
   "metadata": {},
   "outputs": [],
   "source": [
    "l = [1,2,3,'A','B',4]"
   ]
  },
  {
   "cell_type": "code",
   "execution_count": 21,
   "id": "1d8764f5",
   "metadata": {},
   "outputs": [],
   "source": [
    "#pip install pandas,numpy\n",
    "import numpy as np\n",
    "import pandas as pd"
   ]
  },
  {
   "cell_type": "code",
   "execution_count": 49,
   "id": "7fd43d74",
   "metadata": {},
   "outputs": [
    {
     "name": "stdout",
     "output_type": "stream",
     "text": [
      "[[0 0]\n",
      " [0 0]\n",
      " [0 0]\n",
      " [0 0]]\n",
      "<class 'numpy.ndarray'> int32\n",
      "[0 0] <class 'numpy.ndarray'>\n"
     ]
    }
   ],
   "source": [
    "a = np.zeros((4,2), dtype='int')\n",
    "print(a)\n",
    "print(type(a), a.dtype)\n",
    "print(a[0], type(a[0]))\n",
    "#print(help(np.zeros))"
   ]
  },
  {
   "cell_type": "code",
   "execution_count": 33,
   "id": "28cad935",
   "metadata": {},
   "outputs": [
    {
     "name": "stdout",
     "output_type": "stream",
     "text": [
      "<class 'numpy.ndarray'> int32\n",
      "int32\n",
      "[[ 1  2  3  4  5]\n",
      " [ 6  7  8  9 10]] int32\n"
     ]
    }
   ],
   "source": [
    "arr = np.array([1,2,3,4,5])\n",
    "z_arr = np.array(50)\n",
    "twod_arr = np.array([[1,2,3,4,5],[6,7,8,9,10]])\n",
    "print(type(arr), arr.dtype)\n",
    "print(z_arr.dtype)\n",
    "print(twod_arr, twod_arr.dtype)"
   ]
  },
  {
   "cell_type": "code",
   "execution_count": 36,
   "id": "59f05889",
   "metadata": {},
   "outputs": [
    {
     "name": "stdout",
     "output_type": "stream",
     "text": [
      "[10.  20.  30.  40.  50.   5.5] float64\n",
      "['A' '1' '4.5' 'B'] <U32\n"
     ]
    }
   ],
   "source": [
    "int_list = [10,20,30,40,50,5.5]\n",
    "ilistarr = np.array(int_list)\n",
    "print(ilistarr, ilistarr.dtype)\n",
    "\n",
    "str_list = ['A',1,4.5,'B']\n",
    "str_arr = np.array(str_list)\n",
    "print(str_arr, str_arr.dtype)"
   ]
  },
  {
   "cell_type": "code",
   "execution_count": 37,
   "id": "68c152f5",
   "metadata": {},
   "outputs": [
    {
     "name": "stdout",
     "output_type": "stream",
     "text": [
      "['A', '1', '4.5', 'B']\n"
     ]
    }
   ],
   "source": [
    "ll = str_arr.tolist()\n",
    "print(ll)"
   ]
  },
  {
   "cell_type": "code",
   "execution_count": 50,
   "id": "a10bf249",
   "metadata": {},
   "outputs": [
    {
     "name": "stdout",
     "output_type": "stream",
     "text": [
      "string array dimension  1 , Size of array 4 ['A' '1' '4.5' 'B']\n",
      "two dimension array  2 , Size of array 10 [[ 1  2  3  4  5]\n",
      " [ 6  7  8  9 10]]\n",
      "(4,)\n",
      "(2, 5)\n",
      "[1. 1. 1. 1.]\n"
     ]
    }
   ],
   "source": [
    "print('string array dimension ',str_arr.ndim, ', Size of array', str_arr.size, str_arr)\n",
    "print('two dimension array ', twod_arr.ndim, ', Size of array', twod_arr.size, twod_arr)\n",
    "print(str_arr.shape)\n",
    "print(twod_arr.shape)\n",
    "print(np.ones(4))"
   ]
  },
  {
   "cell_type": "code",
   "execution_count": 59,
   "id": "96414030",
   "metadata": {},
   "outputs": [
    {
     "name": "stdout",
     "output_type": "stream",
     "text": [
      "<class 'numpy.ndarray'>\n",
      "np range [1 2 3 4 5 6 7 8 9]\n",
      "[ 5 10 15 20 25 30 35 40 45]\n"
     ]
    }
   ],
   "source": [
    "emptyarr = np.empty(7)\n",
    "print(type(emptyarr))\n",
    "print('np range', np.arange(1,10))\n",
    "a1 = np.arange(5,50,5)\n",
    "print(a1)"
   ]
  },
  {
   "cell_type": "markdown",
   "id": "b30919e7",
   "metadata": {},
   "source": [
    "<b> 2D array, accessing the element & getting type of element"
   ]
  },
  {
   "cell_type": "code",
   "execution_count": 69,
   "id": "1e99d104",
   "metadata": {},
   "outputs": [
    {
     "name": "stdout",
     "output_type": "stream",
     "text": [
      "[[1 2 3]\n",
      " [4 5 6]\n",
      " [7 8 9]] 9 <class 'numpy.int32'>\n",
      "\n"
     ]
    }
   ],
   "source": [
    "l1 = [1,2,3.0]\n",
    "l2 = [4,5,6]\n",
    "l3 = [7,8,9]\n",
    "twod_arr = np.array([l1,l2,l3], dtype='int')\n",
    "print(twod_arr,twod_arr[2,2], type(twod_arr[0,0]))\n",
    "print()"
   ]
  },
  {
   "cell_type": "code",
   "execution_count": 84,
   "id": "1f5eb1b7",
   "metadata": {},
   "outputs": [
    {
     "name": "stdout",
     "output_type": "stream",
     "text": [
      "[3 4 5] [1 2] [1 2 3 4 5]\n",
      "[1 3 5]\n",
      "[2 5]\n"
     ]
    }
   ],
   "source": [
    "l1 = [1,2,3,4,5]\n",
    "a1 = np.array(l1)\n",
    "l2 = [[1,2,3],[4,5,6]]\n",
    "a2 = np.array(l2)\n",
    "print(a1[2:], a1[:2], a1[:])\n",
    "# start:end:step\n",
    "print(a1[0::2])\n",
    "print(a1[1::3])"
   ]
  },
  {
   "cell_type": "code",
   "execution_count": 88,
   "id": "0fe062fb",
   "metadata": {},
   "outputs": [
    {
     "data": {
      "text/plain": [
       "array([2, 3, 4])"
      ]
     },
     "execution_count": 88,
     "metadata": {},
     "output_type": "execute_result"
    }
   ],
   "source": [
    "#Negative slicing\n",
    "a1[-4:-1]"
   ]
  },
  {
   "cell_type": "markdown",
   "id": "0713632a",
   "metadata": {},
   "source": [
    "<b> Slicing two dimensional array</b>"
   ]
  },
  {
   "cell_type": "code",
   "execution_count": 93,
   "id": "50eee4cf",
   "metadata": {},
   "outputs": [
    {
     "name": "stdout",
     "output_type": "stream",
     "text": [
      "Size of Array 10 Shape of array (2, 5)\n",
      "[7 8 9]\n",
      "[[1 2 3]\n",
      " [6 7 8]]\n"
     ]
    }
   ],
   "source": [
    "# slicing 2d array\n",
    "# print(a2[2::2])\n",
    "arr = np.array([[1, 2, 3, 4, 5], [6, 7, 8, 9, 10]])\n",
    "print('Size of Array', arr.size, 'Shape of array', arr.shape)\n",
    "print(arr[1, 1:4])\n",
    "# all rows and 3 columns\n",
    "print(arr[: , :3])"
   ]
  },
  {
   "cell_type": "code",
   "execution_count": 101,
   "id": "e56f895a",
   "metadata": {},
   "outputs": [
    {
     "name": "stdout",
     "output_type": "stream",
     "text": [
      "[[[ 1  2  3]\n",
      "  [ 4  5  6]]\n",
      "\n",
      " [[ 7  8  9]\n",
      "  [10 11 12]]\n",
      "\n",
      " [[13 14 15]\n",
      "  [16 17 18]]]\n",
      "16\n"
     ]
    }
   ],
   "source": [
    "# try 3 d array\n",
    "three_arr = [[[1,2,3],[4,5,6]],[[7,8,9],[10,11,12]],[[13,14,15],[16,17,18]]]\n",
    "print(np.array(three_arr))\n",
    "print(three_arr[2][1][0])"
   ]
  },
  {
   "cell_type": "code",
   "execution_count": 113,
   "id": "8a85202a",
   "metadata": {},
   "outputs": [
    {
     "name": "stdout",
     "output_type": "stream",
     "text": [
      "[[False False False]\n",
      " [False  True  True]\n",
      " [ True  True  True]]\n",
      "[[1 2 3]\n",
      " [4 5 6]\n",
      " [7 8 9]]\n",
      "[[1 2 3]\n",
      " [4 5 6]\n",
      " [7 8 9]]\n",
      "[[ -2  -1   0]\n",
      " [  1   2   3]\n",
      " [300   5   6]]\n"
     ]
    }
   ],
   "source": [
    "print(twod_arr>4)\n",
    "print(twod_arr)\n",
    "two_d_arr = twod_arr-3\n",
    "two_d_arr[2,0]=300\n",
    "print(twod_arr)\n",
    "print(two_d_arr)"
   ]
  },
  {
   "cell_type": "code",
   "execution_count": 124,
   "id": "e6a2608b",
   "metadata": {},
   "outputs": [
    {
     "name": "stdout",
     "output_type": "stream",
     "text": [
      "[1 2 3 4 5]\n",
      "None\n",
      "[1 2 3 4 5]\n",
      "[[[1 2 3 4 5]]] <class 'numpy.ndarray'> int32\n",
      "(1, 1, 5)\n"
     ]
    }
   ],
   "source": [
    "print(a1)\n",
    "x = a1.copy()\n",
    "y = a1.view()\n",
    "# Every NumPy array has the attribute base that returns None if the array owns the data.\n",
    "# Otherwise, the base  attribute refers to the original object.\n",
    "print(x.base)\n",
    "print(y.base)\n",
    "\n",
    "#ndim refers to n dimensions\n",
    "tarr = np.array([1,2,3,4,5], ndmin=3)\n",
    "print(tarr,type(tarr), tarr[0][0][0].dtype)\n",
    "print(tarr.shape)"
   ]
  },
  {
   "cell_type": "code",
   "execution_count": 140,
   "id": "1dce82a2",
   "metadata": {},
   "outputs": [
    {
     "name": "stdout",
     "output_type": "stream",
     "text": [
      "[ 1  2  3  4  5  6  7  8  9  0 11 12]\n",
      "[ 1  2  3  4  5  6  7  8  9  0 11 12]\n",
      "[[ 1  2  3  4]\n",
      " [ 5  6  7  8]\n",
      " [ 9  0 11 12]]\n",
      "[[[ 1  2]\n",
      "  [ 3  4]\n",
      "  [ 5  6]]\n",
      "\n",
      " [[ 7  8]\n",
      "  [ 9  0]\n",
      "  [11 12]]]\n"
     ]
    }
   ],
   "source": [
    "s1 = [1,2,3,4,5,6,7,8,9,0,11,12]\n",
    "sarr = np.array(s1)\n",
    "print(sarr)\n",
    "re_sarr = sarr.reshape(3,4)\n",
    "ree = sarr.reshape(2,3,2)\n",
    "print(sarr)\n",
    "print(re_sarr)\n",
    "print(ree)"
   ]
  },
  {
   "cell_type": "markdown",
   "id": "03a6c94f",
   "metadata": {},
   "source": [
    "<b>  You are allowed to have one \"unknown\" dimension.\n",
    "Meaning that you do not have to specify an exact number for one of the dimensions in the reshape method.\n",
    "Pass -1 as the value, and NumPy will calculate this number for you.</b>"
   ]
  },
  {
   "cell_type": "code",
   "execution_count": 143,
   "id": "674da87b",
   "metadata": {},
   "outputs": [
    {
     "name": "stdout",
     "output_type": "stream",
     "text": [
      "[[[ 1  2  3]\n",
      "  [ 4  5  6]]\n",
      "\n",
      " [[ 7  8  9]\n",
      "  [ 0 11 12]]]\n"
     ]
    }
   ],
   "source": [
    "\"\"\"You are allowed to have one \"unknown\" dimension.\n",
    "Meaning that you do not have to specify an exact number for one of the dimensions in the reshape method.\n",
    "Pass -1 as the value, and NumPy will calculate this number for you.\n",
    "\"\"\"\n",
    "print(sarr.reshape(2,2,-1))"
   ]
  },
  {
   "cell_type": "code",
   "execution_count": 145,
   "id": "89bea82e",
   "metadata": {},
   "outputs": [
    {
     "name": "stdout",
     "output_type": "stream",
     "text": [
      "[[[ 1  2  3]\n",
      "  [ 4  5  6]]\n",
      "\n",
      " [[ 7  8  9]\n",
      "  [ 0 11 12]]]\n",
      "[ 1  2  3  4  5  6  7  8  9  0 11 12]\n"
     ]
    }
   ],
   "source": [
    "#Flattening an array means converting multi dimensional array to 1D array\n",
    "x = sarr.reshape(2,2,-1)\n",
    "print(x)\n",
    "print(x.reshape(-1))"
   ]
  },
  {
   "cell_type": "code",
   "execution_count": null,
   "id": "309fabf7",
   "metadata": {},
   "outputs": [],
   "source": []
  }
 ],
 "metadata": {
  "kernelspec": {
   "display_name": "Python 3 (ipykernel)",
   "language": "python",
   "name": "python3"
  },
  "language_info": {
   "codemirror_mode": {
    "name": "ipython",
    "version": 3
   },
   "file_extension": ".py",
   "mimetype": "text/x-python",
   "name": "python",
   "nbconvert_exporter": "python",
   "pygments_lexer": "ipython3",
   "version": "3.9.13"
  }
 },
 "nbformat": 4,
 "nbformat_minor": 5
}
